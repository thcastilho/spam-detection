{
  "nbformat": 4,
  "nbformat_minor": 0,
  "metadata": {
    "colab": {
      "provenance": []
    },
    "kernelspec": {
      "name": "python3",
      "display_name": "Python 3"
    },
    "language_info": {
      "name": "python"
    }
  },
  "cells": [
    {
      "cell_type": "markdown",
      "source": [
        "# **Detecção de spam em e-mails**"
      ],
      "metadata": {
        "id": "eM7sx5pGj4sE"
      }
    },
    {
      "cell_type": "markdown",
      "source": [
        "## Grupo: Gil de Almeida Alves, Pedro Bruce de Lima e Thiago César Castilho Almeida"
      ],
      "metadata": {
        "id": "zEtbw4yBklPD"
      }
    },
    {
      "cell_type": "markdown",
      "source": [
        "## Importando as Bibliotecas"
      ],
      "metadata": {
        "id": "VlabZ3Jvk7Gj"
      }
    },
    {
      "cell_type": "code",
      "source": [
        "# Data Analysis\n",
        "\n",
        "import pandas as pd\n",
        "import numpy as np\n",
        "import matplotlib.pyplot as plt\n",
        "import seaborn as sns\n",
        "\n",
        "# PLN\n",
        "\n",
        "import spacy\n",
        "try:\n",
        "  nlp = spacy.load(\"en_core_web_sm\")\n",
        "except:\n",
        "  !python -m spacy download en_core_web_sm\n",
        "  nlp = spacy.load(\"en_core_web_sm\")\n",
        "\n",
        "import nltk\n",
        "from nltk.corpus import stopwords\n",
        "\n",
        "# Avaliação\n",
        "\n",
        "from sklearn.metrics import accuracy_score, precision_score, recall_score, f1_score\n",
        "\n",
        "# Tokenização\n",
        "\n",
        "from sklearn.feature_extraction.text import TfidfVectorizer,CountVectorizer\n",
        "\n",
        "# Modelagem\n",
        "\n",
        "from sklearn.pipeline import Pipeline\n",
        "from sklearn.model_selection import train_test_split\n",
        "from sklearn.metrics import confusion_matrix\n",
        "from sklearn.model_selection import GridSearchCV\n",
        "\n",
        "from sklearn.svm import SVC\n",
        "\n",
        "from sklearn.naive_bayes import MultinomialNB\n",
        "from sklearn.model_selection import cross_val_score\n",
        "\n",
        "from sklearn.neighbors import KNeighborsClassifier"
      ],
      "metadata": {
        "id": "iVVZHIiFlp31"
      },
      "execution_count": null,
      "outputs": []
    },
    {
      "cell_type": "markdown",
      "source": [
        "## Carregamento do Dataset"
      ],
      "metadata": {
        "id": "Z2eO2xXRk2fD"
      }
    },
    {
      "cell_type": "code",
      "source": [
        "data = pd.read_csv('/content/messages.csv')\n",
        "\n",
        "data.head()"
      ],
      "metadata": {
        "colab": {
          "base_uri": "https://localhost:8080/",
          "height": 206
        },
        "id": "QbT1004zlilP",
        "outputId": "d16d116f-509f-451a-df4d-cdcca420d855"
      },
      "execution_count": null,
      "outputs": [
        {
          "output_type": "execute_result",
          "data": {
            "text/plain": [
              "                                             subject  \\\n",
              "0            job posting - apple-iss research center   \n",
              "1                                                NaN   \n",
              "2  query : letter frequencies for text identifica...   \n",
              "3                                               risk   \n",
              "4                           request book information   \n",
              "\n",
              "                                             message  label  \n",
              "0  content - length : 3386 apple-iss research cen...      0  \n",
              "1  lang classification grimes , joseph e . and ba...      0  \n",
              "2  i am posting this inquiry for sergei atamas ( ...      0  \n",
              "3  a colleague and i are researching the differin...      0  \n",
              "4  earlier this morning i was on the phone with a...      0  "
            ],
            "text/html": [
              "\n",
              "  <div id=\"df-7d6b9e5e-a542-4063-96b1-8ad3d78f4083\">\n",
              "    <div class=\"colab-df-container\">\n",
              "      <div>\n",
              "<style scoped>\n",
              "    .dataframe tbody tr th:only-of-type {\n",
              "        vertical-align: middle;\n",
              "    }\n",
              "\n",
              "    .dataframe tbody tr th {\n",
              "        vertical-align: top;\n",
              "    }\n",
              "\n",
              "    .dataframe thead th {\n",
              "        text-align: right;\n",
              "    }\n",
              "</style>\n",
              "<table border=\"1\" class=\"dataframe\">\n",
              "  <thead>\n",
              "    <tr style=\"text-align: right;\">\n",
              "      <th></th>\n",
              "      <th>subject</th>\n",
              "      <th>message</th>\n",
              "      <th>label</th>\n",
              "    </tr>\n",
              "  </thead>\n",
              "  <tbody>\n",
              "    <tr>\n",
              "      <th>0</th>\n",
              "      <td>job posting - apple-iss research center</td>\n",
              "      <td>content - length : 3386 apple-iss research cen...</td>\n",
              "      <td>0</td>\n",
              "    </tr>\n",
              "    <tr>\n",
              "      <th>1</th>\n",
              "      <td>NaN</td>\n",
              "      <td>lang classification grimes , joseph e . and ba...</td>\n",
              "      <td>0</td>\n",
              "    </tr>\n",
              "    <tr>\n",
              "      <th>2</th>\n",
              "      <td>query : letter frequencies for text identifica...</td>\n",
              "      <td>i am posting this inquiry for sergei atamas ( ...</td>\n",
              "      <td>0</td>\n",
              "    </tr>\n",
              "    <tr>\n",
              "      <th>3</th>\n",
              "      <td>risk</td>\n",
              "      <td>a colleague and i are researching the differin...</td>\n",
              "      <td>0</td>\n",
              "    </tr>\n",
              "    <tr>\n",
              "      <th>4</th>\n",
              "      <td>request book information</td>\n",
              "      <td>earlier this morning i was on the phone with a...</td>\n",
              "      <td>0</td>\n",
              "    </tr>\n",
              "  </tbody>\n",
              "</table>\n",
              "</div>\n",
              "      <button class=\"colab-df-convert\" onclick=\"convertToInteractive('df-7d6b9e5e-a542-4063-96b1-8ad3d78f4083')\"\n",
              "              title=\"Convert this dataframe to an interactive table.\"\n",
              "              style=\"display:none;\">\n",
              "        \n",
              "  <svg xmlns=\"http://www.w3.org/2000/svg\" height=\"24px\"viewBox=\"0 0 24 24\"\n",
              "       width=\"24px\">\n",
              "    <path d=\"M0 0h24v24H0V0z\" fill=\"none\"/>\n",
              "    <path d=\"M18.56 5.44l.94 2.06.94-2.06 2.06-.94-2.06-.94-.94-2.06-.94 2.06-2.06.94zm-11 1L8.5 8.5l.94-2.06 2.06-.94-2.06-.94L8.5 2.5l-.94 2.06-2.06.94zm10 10l.94 2.06.94-2.06 2.06-.94-2.06-.94-.94-2.06-.94 2.06-2.06.94z\"/><path d=\"M17.41 7.96l-1.37-1.37c-.4-.4-.92-.59-1.43-.59-.52 0-1.04.2-1.43.59L10.3 9.45l-7.72 7.72c-.78.78-.78 2.05 0 2.83L4 21.41c.39.39.9.59 1.41.59.51 0 1.02-.2 1.41-.59l7.78-7.78 2.81-2.81c.8-.78.8-2.07 0-2.86zM5.41 20L4 18.59l7.72-7.72 1.47 1.35L5.41 20z\"/>\n",
              "  </svg>\n",
              "      </button>\n",
              "      \n",
              "  <style>\n",
              "    .colab-df-container {\n",
              "      display:flex;\n",
              "      flex-wrap:wrap;\n",
              "      gap: 12px;\n",
              "    }\n",
              "\n",
              "    .colab-df-convert {\n",
              "      background-color: #E8F0FE;\n",
              "      border: none;\n",
              "      border-radius: 50%;\n",
              "      cursor: pointer;\n",
              "      display: none;\n",
              "      fill: #1967D2;\n",
              "      height: 32px;\n",
              "      padding: 0 0 0 0;\n",
              "      width: 32px;\n",
              "    }\n",
              "\n",
              "    .colab-df-convert:hover {\n",
              "      background-color: #E2EBFA;\n",
              "      box-shadow: 0px 1px 2px rgba(60, 64, 67, 0.3), 0px 1px 3px 1px rgba(60, 64, 67, 0.15);\n",
              "      fill: #174EA6;\n",
              "    }\n",
              "\n",
              "    [theme=dark] .colab-df-convert {\n",
              "      background-color: #3B4455;\n",
              "      fill: #D2E3FC;\n",
              "    }\n",
              "\n",
              "    [theme=dark] .colab-df-convert:hover {\n",
              "      background-color: #434B5C;\n",
              "      box-shadow: 0px 1px 3px 1px rgba(0, 0, 0, 0.15);\n",
              "      filter: drop-shadow(0px 1px 2px rgba(0, 0, 0, 0.3));\n",
              "      fill: #FFFFFF;\n",
              "    }\n",
              "  </style>\n",
              "\n",
              "      <script>\n",
              "        const buttonEl =\n",
              "          document.querySelector('#df-7d6b9e5e-a542-4063-96b1-8ad3d78f4083 button.colab-df-convert');\n",
              "        buttonEl.style.display =\n",
              "          google.colab.kernel.accessAllowed ? 'block' : 'none';\n",
              "\n",
              "        async function convertToInteractive(key) {\n",
              "          const element = document.querySelector('#df-7d6b9e5e-a542-4063-96b1-8ad3d78f4083');\n",
              "          const dataTable =\n",
              "            await google.colab.kernel.invokeFunction('convertToInteractive',\n",
              "                                                     [key], {});\n",
              "          if (!dataTable) return;\n",
              "\n",
              "          const docLinkHtml = 'Like what you see? Visit the ' +\n",
              "            '<a target=\"_blank\" href=https://colab.research.google.com/notebooks/data_table.ipynb>data table notebook</a>'\n",
              "            + ' to learn more about interactive tables.';\n",
              "          element.innerHTML = '';\n",
              "          dataTable['output_type'] = 'display_data';\n",
              "          await google.colab.output.renderOutput(dataTable, element);\n",
              "          const docLink = document.createElement('div');\n",
              "          docLink.innerHTML = docLinkHtml;\n",
              "          element.appendChild(docLink);\n",
              "        }\n",
              "      </script>\n",
              "    </div>\n",
              "  </div>\n",
              "  "
            ]
          },
          "metadata": {},
          "execution_count": 2
        }
      ]
    },
    {
      "cell_type": "code",
      "source": [
        "data.info()"
      ],
      "metadata": {
        "id": "TQXwbi8Tl4Ak",
        "colab": {
          "base_uri": "https://localhost:8080/"
        },
        "outputId": "69d38fbb-ec70-4c27-c916-85a221882f9a"
      },
      "execution_count": null,
      "outputs": [
        {
          "output_type": "stream",
          "name": "stdout",
          "text": [
            "<class 'pandas.core.frame.DataFrame'>\n",
            "RangeIndex: 2893 entries, 0 to 2892\n",
            "Data columns (total 3 columns):\n",
            " #   Column   Non-Null Count  Dtype \n",
            "---  ------   --------------  ----- \n",
            " 0   subject  2831 non-null   object\n",
            " 1   message  2893 non-null   object\n",
            " 2   label    2893 non-null   int64 \n",
            "dtypes: int64(1), object(2)\n",
            "memory usage: 67.9+ KB\n"
          ]
        }
      ]
    },
    {
      "cell_type": "code",
      "source": [
        "data.isnull().sum()"
      ],
      "metadata": {
        "id": "VqRU4tfrl-4l",
        "colab": {
          "base_uri": "https://localhost:8080/"
        },
        "outputId": "4f890d09-a933-4992-9fb5-912b8ccc68b0"
      },
      "execution_count": null,
      "outputs": [
        {
          "output_type": "execute_result",
          "data": {
            "text/plain": [
              "subject    62\n",
              "message     0\n",
              "label       0\n",
              "dtype: int64"
            ]
          },
          "metadata": {},
          "execution_count": 4
        }
      ]
    },
    {
      "cell_type": "code",
      "source": [
        "data['label'].value_counts()"
      ],
      "metadata": {
        "id": "NczUsx4prDOZ",
        "colab": {
          "base_uri": "https://localhost:8080/"
        },
        "outputId": "1b80972c-c961-423d-a08b-bd7a3456096d"
      },
      "execution_count": null,
      "outputs": [
        {
          "output_type": "execute_result",
          "data": {
            "text/plain": [
              "0    2412\n",
              "1     481\n",
              "Name: label, dtype: int64"
            ]
          },
          "metadata": {},
          "execution_count": 5
        }
      ]
    },
    {
      "cell_type": "code",
      "source": [
        "sns.countplot(x='label', data=data, palette=['#000000',\"#FF0000\"])"
      ],
      "metadata": {
        "id": "BceEr-Kcoidu",
        "colab": {
          "base_uri": "https://localhost:8080/",
          "height": 467
        },
        "outputId": "6f771474-dc25-492a-c233-dfdcb96127e3"
      },
      "execution_count": null,
      "outputs": [
        {
          "output_type": "execute_result",
          "data": {
            "text/plain": [
              "<Axes: xlabel='label', ylabel='count'>"
            ]
          },
          "metadata": {},
          "execution_count": 6
        },
        {
          "output_type": "display_data",
          "data": {
            "text/plain": [
              "<Figure size 640x480 with 1 Axes>"
            ],
            "image/png": "[encoded data removed]"
          },
          "metadata": {}
        }
      ]
    },
    {
      "cell_type": "markdown",
      "source": [
        "## Pré-processamento"
      ],
      "metadata": {
        "id": "tReBERiNk9Qo"
      }
    },
    {
      "cell_type": "markdown",
      "source": [
        "Aqui serão realizadas algumas tarefas para pré-processar o texto das colunas.\n",
        "\n",
        "Os algoritmos de aprendizado de máquina não estão preparados para receber qualquer tipo de dado.\n",
        "\n",
        "Quando falamos de Processamento de Linguagem Natural (PLN), temos que os dados na maioria das vezes não estão estruturados, sendo necessário realizar uma padronização dos textos, para que seja possível aos algoritmos manipulá-los. Mesmo que os dados/textos venham do mesmo lugar, isso não significa que estão escritos da mesma forma.\n",
        "\n",
        "Algumas características que merecem a nossa atenção são:\n",
        "\n",
        "*   Substituição de letras capitalizadas;\n",
        "*   Remoção de Stop words;\n",
        "*   Lematização;\n",
        "*   Substituição de símbolos e números;\n",
        "*   Descontração (Inglês);\n",
        "*   etc;\n",
        "\n",
        "Aqui serão realizadas algumas dessas técnicas.\n",
        "\n"
      ],
      "metadata": {
        "id": "aBo9sEXlumup"
      }
    },
    {
      "cell_type": "markdown",
      "source": [
        "Primeiro, devemos realizar a remoção dos valores nulos. Para isso, iremos substituir os valores nulos pela moda."
      ],
      "metadata": {
        "id": "M4Ebbv397n5J"
      }
    },
    {
      "cell_type": "code",
      "source": [
        "data.fillna(data['subject'].mode().values[0],inplace=True)"
      ],
      "metadata": {
        "id": "xKhDfS-A7y0Y"
      },
      "execution_count": null,
      "outputs": []
    },
    {
      "cell_type": "markdown",
      "source": [
        "Uma estratégia que será utilizada será o truncamento do assunto do email com a mensagem. Como ambas as características são textos, isso poderá poupar-nos trabalho."
      ],
      "metadata": {
        "id": "JCHhx7b71fJf"
      }
    },
    {
      "cell_type": "code",
      "source": [
        "data['email'] = data['subject'] + ' ' + data['message']\n",
        "\n",
        "data['email'][1]"
      ],
      "metadata": {
        "id": "JvP2mpai1yf8",
        "colab": {
          "base_uri": "https://localhost:8080/",
          "height": 140
        },
        "outputId": "8fd3c260-5952-426e-dc88-34cb2647dd19"
      },
      "execution_count": null,
      "outputs": [
        {
          "output_type": "execute_result",
          "data": {
            "text/plain": [
              "'sociolinguistics lang classification grimes , joseph e . and barbara f . grimes ; ethnologue language family index ; pb . isbn : 0-88312 - 708 - 3 ; vi , 116 pp . ; $ 14 . 00 . summer institute of linguistics . this companion volume to ethnologue : languages of the world , twelfth edition lists language families of the world with sub-groups shown in a tree arrangement under the broadest classification of language family . the language family index facilitates locating language names in the ethnologue , making the data there more accessible . internet : academic . books @ sil . org languages , reference lang & culture gregerson , marilyn ; ritual , belief , and kinship in sulawesi ; pb . : isbn : 0-88312 - 621 - 4 ; ix , 194 pp . ; $ 25 . 00 . summer institute of linguistics . seven articles discuss five language groups in sulawesi , indonesia ; the primary focus is on cultural matters , with some linguistic content . topics include traditional religion and beliefs , certain ceremonies , and kinship . internet : academic . books @ sil . org language and society , indonesia computers & ling weber , david j . , stephen r . mcconnel , diana d . weber , and beth j . bryson ; primer : a tool for developing early reading materials ; pb . : isbn : 0-88313 - 678 - 8 ; xvi , 266 pp . + ms-dos software ; $ 26 . 00 . summer institute of linguistics . the authors present a computer program and instructions for developing reading materials in languages with little or no background in literacy . the book is structured as a how-to manual with step by step procedures to establish an appropriate primer sequence and to organize words , phrases , and sentences that correlate with the sequence . it presupposes a thorough knowledge of linguistics . internet : academic . books @ sil . org literacy , computer\\n'"
            ],
            "application/vnd.google.colaboratory.intrinsic+json": {
              "type": "string"
            }
          },
          "metadata": {},
          "execution_count": 8
        }
      ]
    },
    {
      "cell_type": "code",
      "source": [
        "# Remover as quebras de linha\n",
        "\n",
        "data['email'] = data['email'].str.replace(r'\\n',\"\")\n",
        "\n",
        "data['email'][302]"
      ],
      "metadata": {
        "id": "ynvguOOM-yh-",
        "colab": {
          "base_uri": "https://localhost:8080/",
          "height": 140
        },
        "outputId": "48f24613-89b3-4206-bc3d-1e505cf0b7c2"
      },
      "execution_count": null,
      "outputs": [
        {
          "output_type": "stream",
          "name": "stderr",
          "text": [
            "<ipython-input-9-8496ac7ce596>:3: FutureWarning: The default value of regex will change from True to False in a future version.\n",
            "  data['email'] = data['email'].str.replace(r'\\n',\"\")\n"
          ]
        },
        {
          "output_type": "execute_result",
          "data": {
            "text/plain": [
              "'changes in the journal language the editorial staff and offices of the journal language have been changed as of this month . articles for submission and general correspondence should be sent to the following address : mark aronoff , editor language department of linguistics suny stony brook stony brook , ny 11794-4376 , usa book reviews and all correspondence concerning reviews should be sent to the following address : edwin battistella , review editor language division of humanities wayne state college wayne , ne 68787 , usa both offices may be reached by email : main office : language . eds @ sunysb . edu review office : langrev @ wscgate . wsc . edu the main office may be reached by telephone : phone : 1-516 - 632-8003 fax : 1-516 - 632-9468'"
            ],
            "application/vnd.google.colaboratory.intrinsic+json": {
              "type": "string"
            }
          },
          "metadata": {},
          "execution_count": 9
        }
      ]
    },
    {
      "cell_type": "code",
      "source": [
        "# Substitui o símbolo '$'\n",
        "\n",
        "data['email']=data['email'].str.replace(r'\\$', 'money')\n",
        "\n",
        "data['email'][2887]"
      ],
      "metadata": {
        "id": "W3bZw9Ps_Y6n",
        "colab": {
          "base_uri": "https://localhost:8080/",
          "height": 157
        },
        "outputId": "b1c3681f-a8cb-4c2a-eebf-07c8d7e5cde5"
      },
      "execution_count": null,
      "outputs": [
        {
          "output_type": "stream",
          "name": "stderr",
          "text": [
            "<ipython-input-10-cbe37b62f20f>:3: FutureWarning: The default value of regex will change from True to False in a future version.\n",
            "  data['email']=data['email'].str.replace(r'\\$', 'money')\n"
          ]
        },
        {
          "output_type": "execute_result",
          "data": {
            "text/plain": [
              "\"win money 300usd and a cruise ! raquel 's casino , inc . is awarding a cruise + money 300 to a lucky member . no purchase necessary to play ! join before month end to participate . ( you will automatically be enteredinto the next drawing . ) you can join at http : / / www . raquelscasino . com ( casino ) http : / / www . tobet . com ( sportsbook ) raquel 's online casino provides guests with a state-of - the-art gaming experience : - a chance to win a cruise and money 300 ! - 10 % sign-up bonus ! - free casino software ! - 25 casino games ! - international sportsbook ! - horse racing ! - play for fun , or for real ! our casino is secure , audited , private , and insured . thank you for your time and consideration . * * * * * * * * * * * * * * * * * * * * * * * * * * * * * * * * * * * * * * * * * * * * * * * * * * * * * * *\""
            ],
            "application/vnd.google.colaboratory.intrinsic+json": {
              "type": "string"
            }
          },
          "metadata": {},
          "execution_count": 10
        }
      ]
    },
    {
      "cell_type": "code",
      "source": [
        "# Substitui números de telefone\n",
        "# Aqui, nem todos os números de telefone são substituídos corretamente, mas a maioria deles sim.\n",
        "\n",
        "data['email']=data['email'].str.replace(\"(.?){0,2}\\d?(\\(?\\d{3}\\D{0,3}\\d{3}\\D{0,3}\\d{4})\", \"phonenumber\")\n",
        "data['email']=data['email'].str.replace(\"\\\\+?\\\\d{1,4}?[-.\\\\s]?\\\\(?\\\\d{1,3}?\\\\)?[-.\\\\s]?\\\\d{1,4}[-.\\\\s]?\\\\d{1,4}[-.\\\\s]?\\\\d{1,9}\", \"phonenumber\")\n",
        "\n",
        "data['email'][302]"
      ],
      "metadata": {
        "colab": {
          "base_uri": "https://localhost:8080/",
          "height": 175
        },
        "id": "0E0O61Hx2x_c",
        "outputId": "ac2510b1-d57c-4032-d92c-bd565314363c"
      },
      "execution_count": null,
      "outputs": [
        {
          "output_type": "stream",
          "name": "stderr",
          "text": [
            "<ipython-input-11-041b3a949149>:4: FutureWarning: The default value of regex will change from True to False in a future version.\n",
            "  data['email']=data['email'].str.replace(\"(.?){0,2}\\d?(\\(?\\d{3}\\D{0,3}\\d{3}\\D{0,3}\\d{4})\", \"phonenumber\")\n",
            "<ipython-input-11-041b3a949149>:5: FutureWarning: The default value of regex will change from True to False in a future version.\n",
            "  data['email']=data['email'].str.replace(\"\\\\+?\\\\d{1,4}?[-.\\\\s]?\\\\(?\\\\d{1,3}?\\\\)?[-.\\\\s]?\\\\d{1,4}[-.\\\\s]?\\\\d{1,4}[-.\\\\s]?\\\\d{1,9}\", \"phonenumber\")\n"
          ]
        },
        {
          "output_type": "execute_result",
          "data": {
            "text/plain": [
              "'changes in the journal language the editorial staff and offices of the journal language have been changed as of this month . articles for submission and general correspondence should be sent to the following address : mark aronoff , editor language department of linguistics suny stony brook stony brook , ny phonenumber , usa book reviews and all correspondence concerning reviews should be sent to the following address : edwin battistella , review editor language division of humanities wayne state college wayne , ne phonenumber , usa both offices may be reached by email : main office : language . eds @ sunysb . edu review office : langrev @ wscgate . wsc . edu the main office may be reached by telephone : phone : phonenumber fax : phonenumber'"
            ],
            "application/vnd.google.colaboratory.intrinsic+json": {
              "type": "string"
            }
          },
          "metadata": {},
          "execution_count": 11
        }
      ]
    },
    {
      "cell_type": "code",
      "source": [
        "# data['email'][119]"
      ],
      "metadata": {
        "id": "NtoVgMl55Rx_"
      },
      "execution_count": null,
      "outputs": []
    },
    {
      "cell_type": "code",
      "source": [
        "# Substitui numeros por 'number '\n",
        "\n",
        "data['email']=data['email'].str.replace(r'\\d+(\\.\\d+)?', 'number ')\n",
        "data['email'][302]"
      ],
      "metadata": {
        "id": "yHygNtJpE2Rt",
        "colab": {
          "base_uri": "https://localhost:8080/",
          "height": 140
        },
        "outputId": "db89ca41-0b73-4f2a-d140-823eb4b29127"
      },
      "execution_count": null,
      "outputs": [
        {
          "output_type": "stream",
          "name": "stderr",
          "text": [
            "<ipython-input-13-b87298179df9>:3: FutureWarning: The default value of regex will change from True to False in a future version.\n",
            "  data['email']=data['email'].str.replace(r'\\d+(\\.\\d+)?', 'number ')\n"
          ]
        },
        {
          "output_type": "execute_result",
          "data": {
            "text/plain": [
              "'changes in the journal language the editorial staff and offices of the journal language have been changed as of this month . articles for submission and general correspondence should be sent to the following address : mark aronoff , editor language department of linguistics suny stony brook stony brook , ny phonenumber , usa book reviews and all correspondence concerning reviews should be sent to the following address : edwin battistella , review editor language division of humanities wayne state college wayne , ne phonenumber , usa both offices may be reached by email : main office : language . eds @ sunysb . edu review office : langrev @ wscgate . wsc . edu the main office may be reached by telephone : phone : phonenumber fax : phonenumber'"
            ],
            "application/vnd.google.colaboratory.intrinsic+json": {
              "type": "string"
            }
          },
          "metadata": {},
          "execution_count": 13
        }
      ]
    },
    {
      "cell_type": "code",
      "source": [
        "data['email'][2887]"
      ],
      "metadata": {
        "id": "opiT-1y2eT_-",
        "colab": {
          "base_uri": "https://localhost:8080/",
          "height": 123
        },
        "outputId": "ac1364d3-0493-4071-9cf4-09b0e8d98889"
      },
      "execution_count": null,
      "outputs": [
        {
          "output_type": "execute_result",
          "data": {
            "text/plain": [
              "\"win money number usd and a cruise ! raquel 's casino , inc . is awarding a cruise + money number  to a lucky member . no purchase necessary to play ! join before month end to participate . ( you will automatically be enteredinto the next drawing . ) you can join at http : / / www . raquelscasino . com ( casino ) http : / / www . tobet . com ( sportsbook ) raquel 's online casino provides guests with a state-of - the-art gaming experience : - a chance to win a cruise and money number  ! - number  % sign-up bonus ! - free casino software ! - number  casino games ! - international sportsbook ! - horse racing ! - play for fun , or for real ! our casino is secure , audited , private , and insured . thank you for your time and consideration . * * * * * * * * * * * * * * * * * * * * * * * * * * * * * * * * * * * * * * * * * * * * * * * * * * * * * * *\""
            ],
            "application/vnd.google.colaboratory.intrinsic+json": {
              "type": "string"
            }
          },
          "metadata": {},
          "execution_count": 14
        }
      ]
    },
    {
      "cell_type": "code",
      "source": [
        "# Remove caracteres especiais (tem que ser o último por causa das url, email, etc)\n",
        "\n",
        "data['email']=data['email'].str.replace(r\"[^a-zA-Z0-9@]+\", \" \")\n",
        "\n",
        "data['email'][1]"
      ],
      "metadata": {
        "id": "BmAIwtgjETs8",
        "colab": {
          "base_uri": "https://localhost:8080/",
          "height": 175
        },
        "outputId": "2826aa77-92a4-461c-fa02-e0cf8fd5a44f"
      },
      "execution_count": null,
      "outputs": [
        {
          "output_type": "stream",
          "name": "stderr",
          "text": [
            "<ipython-input-15-f82ff65a652d>:4: FutureWarning: The default value of regex will change from True to False in a future version.\n",
            "  data['email']=data['email'].str.replace(r\"[^a-zA-Z0-9@]+\", \" \")\n"
          ]
        },
        {
          "output_type": "execute_result",
          "data": {
            "text/plain": [
              "'sociolinguistics lang classification grimes joseph e and barbara f grimes ethnologue language family index pb isbn phonenumber number number vi number pp money number number summer institute of linguistics this companion volume to ethnologue languages of the world twelfth edition lists language families of the world with sub groups shown in a tree arrangement under the broadest classification of language family the language family index facilitates locating language names in the ethnologue making the data there more accessible internet academic books @ sil org languages reference lang culture gregerson marilyn ritual belief and kinship in sulawesi pb isbn phonenumber number number ix number pp money number number summer institute of linguistics seven articles discuss five language groups in sulawesi indonesia the primary focus is on cultural matters with some linguistic content topics include traditional religion and beliefs certain ceremonies and kinship internet academic books @ sil org language and society indonesia computers ling weber david j stephen r mcconnel diana d weber and beth j bryson primer a tool for developing early reading materials pb isbn phonenumber number number xvi number pp ms dos software money number number summer institute of linguistics the authors present a computer program and instructions for developing reading materials in languages with little or no background in literacy the book is structured as a how to manual with step by step procedures to establish an appropriate primer sequence and to organize words phrases and sentences that correlate with the sequence it presupposes a thorough knowledge of linguistics internet academic books @ sil org literacy computer'"
            ],
            "application/vnd.google.colaboratory.intrinsic+json": {
              "type": "string"
            }
          },
          "metadata": {},
          "execution_count": 15
        }
      ]
    },
    {
      "cell_type": "code",
      "source": [
        "# Remover stop words (palavras que são comuns e não possuem valor nas frases)\n",
        "\n",
        "nltk.download('stopwords')\n",
        "swords = nlp.Defaults.stop_words\n",
        "\n",
        "sw = list(set(stopwords.words('english') + list(swords)))\n",
        "\n",
        "data['email'] = data['email'].apply(lambda x: ' '.join([word for word in x.split() if word not in (sw)]))\n",
        "\n",
        "data['email'][1]"
      ],
      "metadata": {
        "id": "M2X1ZHhyKAZU",
        "colab": {
          "base_uri": "https://localhost:8080/",
          "height": 175
        },
        "outputId": "e5adc52e-d349-4851-d22c-31a9f92f5599"
      },
      "execution_count": null,
      "outputs": [
        {
          "output_type": "stream",
          "name": "stderr",
          "text": [
            "[nltk_data] Downloading package stopwords to /root/nltk_data...\n",
            "[nltk_data]   Unzipping corpora/stopwords.zip.\n"
          ]
        },
        {
          "output_type": "execute_result",
          "data": {
            "text/plain": [
              "'sociolinguistics lang classification grimes joseph e barbara f grimes ethnologue language family index pb isbn phonenumber number number vi number pp money number number summer institute linguistics companion volume ethnologue languages world twelfth edition lists language families world sub groups shown tree arrangement broadest classification language family language family index facilitates locating language names ethnologue making data accessible internet academic books @ sil org languages reference lang culture gregerson marilyn ritual belief kinship sulawesi pb isbn phonenumber number number ix number pp money number number summer institute linguistics seven articles discuss language groups sulawesi indonesia primary focus cultural matters linguistic content topics include traditional religion beliefs certain ceremonies kinship internet academic books @ sil org language society indonesia computers ling weber david j stephen r mcconnel diana weber beth j bryson primer tool developing early reading materials pb isbn phonenumber number number xvi number pp ms dos software money number number summer institute linguistics authors present computer program instructions developing reading materials languages little background literacy book structured manual step step procedures establish appropriate primer sequence organize words phrases sentences correlate sequence presupposes thorough knowledge linguistics internet academic books @ sil org literacy computer'"
            ],
            "application/vnd.google.colaboratory.intrinsic+json": {
              "type": "string"
            }
          },
          "metadata": {},
          "execution_count": 16
        }
      ]
    },
    {
      "cell_type": "code",
      "source": [
        "# aqui a lematização estava ficando longa e com problemas. Encontramos solução aqui\n",
        "# https://stackoverflow.com/questions/75214153/lemmatization-taking-forever-with-spacy\n",
        "# Process large text as a stream via `nlp.pipe()` and iterate over the results, extracting lemmas\n",
        "lemma_text_list = []\n",
        "for doc in nlp.pipe(data[\"email\"]):\n",
        "    lemma_text_list.append(\" \".join(token.lemma_ for token in doc))\n",
        "data[\"email\"] = lemma_text_list\n",
        "\n",
        "data['email'][1]"
      ],
      "metadata": {
        "id": "l-g63dWeHI2g",
        "colab": {
          "base_uri": "https://localhost:8080/",
          "height": 140
        },
        "outputId": "589d88aa-cc82-4806-ce15-b692791f90b4"
      },
      "execution_count": null,
      "outputs": [
        {
          "output_type": "execute_result",
          "data": {
            "text/plain": [
              "'sociolinguistic lang classification grime joseph e barbara f grime ethnologue language family index pb isbn phonenumber number number vi number pp money number number summer institute linguistics companion volume ethnologue language world twelfth edition list language family world sub group show tree arrangement broad classification language family language family index facilitate locate language name ethnologue make datum accessible internet academic book @ sil org language reference lang culture gregerson marilyn ritual belief kinship sulawesi pb isbn phonenumber number number ix number pp money number number summer institute linguistic seven article discuss language group sulawesi indonesia primary focus cultural matter linguistic content topic include traditional religion belief certain ceremony kinship internet academic book @ sil org language society indonesia computer le weber david j stephen r mcconnel diana weber beth j bryson primer tool develop early reading material pb isbn phonenumber number number xvi number pp ms dos software money number number summer institute linguistics author present computer program instruction develop reading material language little background literacy book structure manual step step procedure establish appropriate primer sequence organize word phrase sentence correlate sequence presuppose thorough knowledge linguistic internet academic book @ sil org literacy computer'"
            ],
            "application/vnd.google.colaboratory.intrinsic+json": {
              "type": "string"
            }
          },
          "metadata": {},
          "execution_count": 17
        }
      ]
    },
    {
      "cell_type": "code",
      "source": [
        "data['email'][5]"
      ],
      "metadata": {
        "colab": {
          "base_uri": "https://localhost:8080/",
          "height": 140
        },
        "id": "xEUsYQfw8l-_",
        "outputId": "48636aa3-1d16-4402-f45b-a3ad7d2f0e41"
      },
      "execution_count": null,
      "outputs": [
        {
          "output_type": "execute_result",
          "data": {
            "text/plain": [
              "'abstract optimality syntactic theory content length number paper good good workshop optimality syntactic theory hold massachusetts institute technology cambridge phonenumber syntactic research variety framework assign grow role notion comparison work forefront current research include theory involve principle economy optimality work unpublished formative stage legendre raymond smolensky number grimshaw number pesetsky number chomsky number number number relevant datum vary account empirical comparison proposal undertake number number number mit host workshop explore clarify particular issue syntactic theory comparison play significant role workshop consist invite talk talk select anonymously submit abstract abstract invite address follow question nature candidate reference set comparison linguistic object compete good choice criterion determine optimal output set candidate grammar compare derivation economy principle chomsky number number representation optimality theoretic analysis develop phonology prince smolensky number language acquisition variation explain parameterization constraint rank computational implication requirement different approach invite talk present joan bresnan stanford noam chomsky mit jane grimshaw rutgers david pesetsky mit paul smolensky geraldine legendre johns hopkins university edward stabler ucla submission consideration receive march number number mail fax transmission author abstract accept request provide complete paper mid april prepare focused discussion able assist travel cost student unemployed presenter number minute time slot reserve accept paper additional number minute question discussion abstract anonymous long page mailing address good mit number phonenumber massachusetts avenue cambridge phonenumber mailing include copy anonymous abstract cover sheet indicate paper title author affiliation address phone number email address fax transmission phonenumber attention david pesetsky include cover sheet question address email good @ mit edu detailed conference information available anonymous ftp broca mit edu pub good directory reference cite chomsky n number note economy derivation representation laka mahajan ed mit work paper linguistic number cambridge mit work paper linguistics chomsky n number minimalist program linguistic theory hale k j keyser ed view build number cambridge mit press chomsky n number bare phrase structure occasional paper number cambridge mit work paper linguistics grimshaw j number minimal projection head optimality ms rutger university available anonymous ftp ruccs rutger edu pub ot paper minproj ps appear linguistic inquiry legendre g w raymond p smolensky number optimality theoretic typology case grammatical voice system proceeding nineteenth annual meeting berkeley linguistic society berkeley phonenumber pesetsky prep syntax edge optimality effect sentence grammar handout available anonymous ftp ruccs rutger edu pub ot paper sentpron ps prince p smolensky number optimality theory constraint interaction generative grammar ruccs technical report number rutger university center cognitive science piscataway new jersey appear mit press'"
            ],
            "application/vnd.google.colaboratory.intrinsic+json": {
              "type": "string"
            }
          },
          "metadata": {},
          "execution_count": 18
        }
      ]
    },
    {
      "cell_type": "code",
      "source": [
        "data['email'][0]"
      ],
      "metadata": {
        "colab": {
          "base_uri": "https://localhost:8080/",
          "height": 140
        },
        "id": "ZqjgvZUINmsd",
        "outputId": "88d18fe9-fc0b-4c9d-9a00-a962a900f262"
      },
      "execution_count": null,
      "outputs": [
        {
          "output_type": "execute_result",
          "data": {
            "text/plain": [
              "'job post apple iss research center content length number apple iss research center money number million joint venture apple computer inc institute systems science national university singapore locate singapore look senior speech scientist successful candidate research expertise computational linguistic include natural language process english chinese statistical language model knowledge state art corpus base n gram language model cache language model speech language model require text speech project leader successful candidate research expertise expertise follow area computational linguistic include natural language parse lexical database design statistical language model text tokenization normalization prosodic analysis substantial knowledge phonology syntax semantics chinese require knowledge acoustic phonetics speech signal processing desirable candidate phd number number year relevant work experience technical msc degree number number year experienc e strong software engineering skill include design implementation productization require position knowledge c c unix prefer unix c programmer look experienced unix c programmer preferably good industry experience join break new frontier strong knowledge unix tool compiler linker x windows e mac experience matlab require sun silicon graphic experience advantage programmer year industry experience need apply position include interaction scientist national university singapore apple speech research productization effort locate cupertino california attendance publication international scientific engineering conference encourage benefit include internationally competitive salary housing subsidy relocation expense send complete resume enclose personal particular qualification experience contact telephone number mr jean luc lebrun center manager apple iss research center institute systems science heng mui keng terrace singapore number tel number phonenumber fax number phonenumber email jllebrun @ iss nus sg'"
            ],
            "application/vnd.google.colaboratory.intrinsic+json": {
              "type": "string"
            }
          },
          "metadata": {},
          "execution_count": 19
        }
      ]
    },
    {
      "cell_type": "code",
      "source": [
        "data = data.drop(['message', 'subject'], axis=1)"
      ],
      "metadata": {
        "id": "XqyJs9o2Nq53"
      },
      "execution_count": null,
      "outputs": []
    },
    {
      "cell_type": "code",
      "source": [
        "data"
      ],
      "metadata": {
        "colab": {
          "base_uri": "https://localhost:8080/",
          "height": 424
        },
        "id": "WVTEtqupPswG",
        "outputId": "dfa3c235-fd2e-438b-c9df-b692cfefe3f7"
      },
      "execution_count": null,
      "outputs": [
        {
          "output_type": "execute_result",
          "data": {
            "text/plain": [
              "      label                                              email\n",
              "0         0  job post apple iss research center content len...\n",
              "1         0  sociolinguistic lang classification grime jose...\n",
              "2         0  query letter frequency text identification pos...\n",
              "3         0  risk colleague research differ degree risk per...\n",
              "4         0  request book information early morning phone f...\n",
              "...     ...                                                ...\n",
              "2888      1  love profile ysuolvpv hello thank stop take ne...\n",
              "2889      1  ask join kiddin list owner kiddin invite join ...\n",
              "2890      0  anglicization composer name judge return post ...\n",
              "2891      0  number number comparative method n ary compari...\n",
              "2892      0  american english australia hello work thesis c...\n",
              "\n",
              "[2893 rows x 2 columns]"
            ],
            "text/html": [
              "\n",
              "  <div id=\"df-cf57abe9-71e0-4865-b9c3-920346bb5962\">\n",
              "    <div class=\"colab-df-container\">\n",
              "      <div>\n",
              "<style scoped>\n",
              "    .dataframe tbody tr th:only-of-type {\n",
              "        vertical-align: middle;\n",
              "    }\n",
              "\n",
              "    .dataframe tbody tr th {\n",
              "        vertical-align: top;\n",
              "    }\n",
              "\n",
              "    .dataframe thead th {\n",
              "        text-align: right;\n",
              "    }\n",
              "</style>\n",
              "<table border=\"1\" class=\"dataframe\">\n",
              "  <thead>\n",
              "    <tr style=\"text-align: right;\">\n",
              "      <th></th>\n",
              "      <th>label</th>\n",
              "      <th>email</th>\n",
              "    </tr>\n",
              "  </thead>\n",
              "  <tbody>\n",
              "    <tr>\n",
              "      <th>0</th>\n",
              "      <td>0</td>\n",
              "      <td>job post apple iss research center content len...</td>\n",
              "    </tr>\n",
              "    <tr>\n",
              "      <th>1</th>\n",
              "      <td>0</td>\n",
              "      <td>sociolinguistic lang classification grime jose...</td>\n",
              "    </tr>\n",
              "    <tr>\n",
              "      <th>2</th>\n",
              "      <td>0</td>\n",
              "      <td>query letter frequency text identification pos...</td>\n",
              "    </tr>\n",
              "    <tr>\n",
              "      <th>3</th>\n",
              "      <td>0</td>\n",
              "      <td>risk colleague research differ degree risk per...</td>\n",
              "    </tr>\n",
              "    <tr>\n",
              "      <th>4</th>\n",
              "      <td>0</td>\n",
              "      <td>request book information early morning phone f...</td>\n",
              "    </tr>\n",
              "    <tr>\n",
              "      <th>...</th>\n",
              "      <td>...</td>\n",
              "      <td>...</td>\n",
              "    </tr>\n",
              "    <tr>\n",
              "      <th>2888</th>\n",
              "      <td>1</td>\n",
              "      <td>love profile ysuolvpv hello thank stop take ne...</td>\n",
              "    </tr>\n",
              "    <tr>\n",
              "      <th>2889</th>\n",
              "      <td>1</td>\n",
              "      <td>ask join kiddin list owner kiddin invite join ...</td>\n",
              "    </tr>\n",
              "    <tr>\n",
              "      <th>2890</th>\n",
              "      <td>0</td>\n",
              "      <td>anglicization composer name judge return post ...</td>\n",
              "    </tr>\n",
              "    <tr>\n",
              "      <th>2891</th>\n",
              "      <td>0</td>\n",
              "      <td>number number comparative method n ary compari...</td>\n",
              "    </tr>\n",
              "    <tr>\n",
              "      <th>2892</th>\n",
              "      <td>0</td>\n",
              "      <td>american english australia hello work thesis c...</td>\n",
              "    </tr>\n",
              "  </tbody>\n",
              "</table>\n",
              "<p>2893 rows × 2 columns</p>\n",
              "</div>\n",
              "      <button class=\"colab-df-convert\" onclick=\"convertToInteractive('df-cf57abe9-71e0-4865-b9c3-920346bb5962')\"\n",
              "              title=\"Convert this dataframe to an interactive table.\"\n",
              "              style=\"display:none;\">\n",
              "        \n",
              "  <svg xmlns=\"http://www.w3.org/2000/svg\" height=\"24px\"viewBox=\"0 0 24 24\"\n",
              "       width=\"24px\">\n",
              "    <path d=\"M0 0h24v24H0V0z\" fill=\"none\"/>\n",
              "    <path d=\"M18.56 5.44l.94 2.06.94-2.06 2.06-.94-2.06-.94-.94-2.06-.94 2.06-2.06.94zm-11 1L8.5 8.5l.94-2.06 2.06-.94-2.06-.94L8.5 2.5l-.94 2.06-2.06.94zm10 10l.94 2.06.94-2.06 2.06-.94-2.06-.94-.94-2.06-.94 2.06-2.06.94z\"/><path d=\"M17.41 7.96l-1.37-1.37c-.4-.4-.92-.59-1.43-.59-.52 0-1.04.2-1.43.59L10.3 9.45l-7.72 7.72c-.78.78-.78 2.05 0 2.83L4 21.41c.39.39.9.59 1.41.59.51 0 1.02-.2 1.41-.59l7.78-7.78 2.81-2.81c.8-.78.8-2.07 0-2.86zM5.41 20L4 18.59l7.72-7.72 1.47 1.35L5.41 20z\"/>\n",
              "  </svg>\n",
              "      </button>\n",
              "      \n",
              "  <style>\n",
              "    .colab-df-container {\n",
              "      display:flex;\n",
              "      flex-wrap:wrap;\n",
              "      gap: 12px;\n",
              "    }\n",
              "\n",
              "    .colab-df-convert {\n",
              "      background-color: #E8F0FE;\n",
              "      border: none;\n",
              "      border-radius: 50%;\n",
              "      cursor: pointer;\n",
              "      display: none;\n",
              "      fill: #1967D2;\n",
              "      height: 32px;\n",
              "      padding: 0 0 0 0;\n",
              "      width: 32px;\n",
              "    }\n",
              "\n",
              "    .colab-df-convert:hover {\n",
              "      background-color: #E2EBFA;\n",
              "      box-shadow: 0px 1px 2px rgba(60, 64, 67, 0.3), 0px 1px 3px 1px rgba(60, 64, 67, 0.15);\n",
              "      fill: #174EA6;\n",
              "    }\n",
              "\n",
              "    [theme=dark] .colab-df-convert {\n",
              "      background-color: #3B4455;\n",
              "      fill: #D2E3FC;\n",
              "    }\n",
              "\n",
              "    [theme=dark] .colab-df-convert:hover {\n",
              "      background-color: #434B5C;\n",
              "      box-shadow: 0px 1px 3px 1px rgba(0, 0, 0, 0.15);\n",
              "      filter: drop-shadow(0px 1px 2px rgba(0, 0, 0, 0.3));\n",
              "      fill: #FFFFFF;\n",
              "    }\n",
              "  </style>\n",
              "\n",
              "      <script>\n",
              "        const buttonEl =\n",
              "          document.querySelector('#df-cf57abe9-71e0-4865-b9c3-920346bb5962 button.colab-df-convert');\n",
              "        buttonEl.style.display =\n",
              "          google.colab.kernel.accessAllowed ? 'block' : 'none';\n",
              "\n",
              "        async function convertToInteractive(key) {\n",
              "          const element = document.querySelector('#df-cf57abe9-71e0-4865-b9c3-920346bb5962');\n",
              "          const dataTable =\n",
              "            await google.colab.kernel.invokeFunction('convertToInteractive',\n",
              "                                                     [key], {});\n",
              "          if (!dataTable) return;\n",
              "\n",
              "          const docLinkHtml = 'Like what you see? Visit the ' +\n",
              "            '<a target=\"_blank\" href=https://colab.research.google.com/notebooks/data_table.ipynb>data table notebook</a>'\n",
              "            + ' to learn more about interactive tables.';\n",
              "          element.innerHTML = '';\n",
              "          dataTable['output_type'] = 'display_data';\n",
              "          await google.colab.output.renderOutput(dataTable, element);\n",
              "          const docLink = document.createElement('div');\n",
              "          docLink.innerHTML = docLinkHtml;\n",
              "          element.appendChild(docLink);\n",
              "        }\n",
              "      </script>\n",
              "    </div>\n",
              "  </div>\n",
              "  "
            ]
          },
          "metadata": {},
          "execution_count": 21
        }
      ]
    },
    {
      "cell_type": "code",
      "source": [
        "# tentamos buscar alguma relação entre o tamanho da mensagem e a label, mas não funcionou muito bem\n",
        "\n",
        "data['length'] = data.email.apply(len)\n",
        "data.head()"
      ],
      "metadata": {
        "colab": {
          "base_uri": "https://localhost:8080/",
          "height": 206
        },
        "id": "r8poGOVoyAeG",
        "outputId": "8e9ca819-8aa9-46f1-944c-1f741cb5edc1"
      },
      "execution_count": null,
      "outputs": [
        {
          "output_type": "execute_result",
          "data": {
            "text/plain": [
              "   label                                              email  length\n",
              "0      0  job post apple iss research center content len...    1983\n",
              "1      0  sociolinguistic lang classification grime jose...    1431\n",
              "2      0  query letter frequency text identification pos...     930\n",
              "3      0  risk colleague research differ degree risk per...     180\n",
              "4      0  request book information early morning phone f...     557"
            ],
            "text/html": [
              "\n",
              "  <div id=\"df-b2eff4af-8ad8-4402-961a-50b4216ebc19\">\n",
              "    <div class=\"colab-df-container\">\n",
              "      <div>\n",
              "<style scoped>\n",
              "    .dataframe tbody tr th:only-of-type {\n",
              "        vertical-align: middle;\n",
              "    }\n",
              "\n",
              "    .dataframe tbody tr th {\n",
              "        vertical-align: top;\n",
              "    }\n",
              "\n",
              "    .dataframe thead th {\n",
              "        text-align: right;\n",
              "    }\n",
              "</style>\n",
              "<table border=\"1\" class=\"dataframe\">\n",
              "  <thead>\n",
              "    <tr style=\"text-align: right;\">\n",
              "      <th></th>\n",
              "      <th>label</th>\n",
              "      <th>email</th>\n",
              "      <th>length</th>\n",
              "    </tr>\n",
              "  </thead>\n",
              "  <tbody>\n",
              "    <tr>\n",
              "      <th>0</th>\n",
              "      <td>0</td>\n",
              "      <td>job post apple iss research center content len...</td>\n",
              "      <td>1983</td>\n",
              "    </tr>\n",
              "    <tr>\n",
              "      <th>1</th>\n",
              "      <td>0</td>\n",
              "      <td>sociolinguistic lang classification grime jose...</td>\n",
              "      <td>1431</td>\n",
              "    </tr>\n",
              "    <tr>\n",
              "      <th>2</th>\n",
              "      <td>0</td>\n",
              "      <td>query letter frequency text identification pos...</td>\n",
              "      <td>930</td>\n",
              "    </tr>\n",
              "    <tr>\n",
              "      <th>3</th>\n",
              "      <td>0</td>\n",
              "      <td>risk colleague research differ degree risk per...</td>\n",
              "      <td>180</td>\n",
              "    </tr>\n",
              "    <tr>\n",
              "      <th>4</th>\n",
              "      <td>0</td>\n",
              "      <td>request book information early morning phone f...</td>\n",
              "      <td>557</td>\n",
              "    </tr>\n",
              "  </tbody>\n",
              "</table>\n",
              "</div>\n",
              "      <button class=\"colab-df-convert\" onclick=\"convertToInteractive('df-b2eff4af-8ad8-4402-961a-50b4216ebc19')\"\n",
              "              title=\"Convert this dataframe to an interactive table.\"\n",
              "              style=\"display:none;\">\n",
              "        \n",
              "  <svg xmlns=\"http://www.w3.org/2000/svg\" height=\"24px\"viewBox=\"0 0 24 24\"\n",
              "       width=\"24px\">\n",
              "    <path d=\"M0 0h24v24H0V0z\" fill=\"none\"/>\n",
              "    <path d=\"M18.56 5.44l.94 2.06.94-2.06 2.06-.94-2.06-.94-.94-2.06-.94 2.06-2.06.94zm-11 1L8.5 8.5l.94-2.06 2.06-.94-2.06-.94L8.5 2.5l-.94 2.06-2.06.94zm10 10l.94 2.06.94-2.06 2.06-.94-2.06-.94-.94-2.06-.94 2.06-2.06.94z\"/><path d=\"M17.41 7.96l-1.37-1.37c-.4-.4-.92-.59-1.43-.59-.52 0-1.04.2-1.43.59L10.3 9.45l-7.72 7.72c-.78.78-.78 2.05 0 2.83L4 21.41c.39.39.9.59 1.41.59.51 0 1.02-.2 1.41-.59l7.78-7.78 2.81-2.81c.8-.78.8-2.07 0-2.86zM5.41 20L4 18.59l7.72-7.72 1.47 1.35L5.41 20z\"/>\n",
              "  </svg>\n",
              "      </button>\n",
              "      \n",
              "  <style>\n",
              "    .colab-df-container {\n",
              "      display:flex;\n",
              "      flex-wrap:wrap;\n",
              "      gap: 12px;\n",
              "    }\n",
              "\n",
              "    .colab-df-convert {\n",
              "      background-color: #E8F0FE;\n",
              "      border: none;\n",
              "      border-radius: 50%;\n",
              "      cursor: pointer;\n",
              "      display: none;\n",
              "      fill: #1967D2;\n",
              "      height: 32px;\n",
              "      padding: 0 0 0 0;\n",
              "      width: 32px;\n",
              "    }\n",
              "\n",
              "    .colab-df-convert:hover {\n",
              "      background-color: #E2EBFA;\n",
              "      box-shadow: 0px 1px 2px rgba(60, 64, 67, 0.3), 0px 1px 3px 1px rgba(60, 64, 67, 0.15);\n",
              "      fill: #174EA6;\n",
              "    }\n",
              "\n",
              "    [theme=dark] .colab-df-convert {\n",
              "      background-color: #3B4455;\n",
              "      fill: #D2E3FC;\n",
              "    }\n",
              "\n",
              "    [theme=dark] .colab-df-convert:hover {\n",
              "      background-color: #434B5C;\n",
              "      box-shadow: 0px 1px 3px 1px rgba(0, 0, 0, 0.15);\n",
              "      filter: drop-shadow(0px 1px 2px rgba(0, 0, 0, 0.3));\n",
              "      fill: #FFFFFF;\n",
              "    }\n",
              "  </style>\n",
              "\n",
              "      <script>\n",
              "        const buttonEl =\n",
              "          document.querySelector('#df-b2eff4af-8ad8-4402-961a-50b4216ebc19 button.colab-df-convert');\n",
              "        buttonEl.style.display =\n",
              "          google.colab.kernel.accessAllowed ? 'block' : 'none';\n",
              "\n",
              "        async function convertToInteractive(key) {\n",
              "          const element = document.querySelector('#df-b2eff4af-8ad8-4402-961a-50b4216ebc19');\n",
              "          const dataTable =\n",
              "            await google.colab.kernel.invokeFunction('convertToInteractive',\n",
              "                                                     [key], {});\n",
              "          if (!dataTable) return;\n",
              "\n",
              "          const docLinkHtml = 'Like what you see? Visit the ' +\n",
              "            '<a target=\"_blank\" href=https://colab.research.google.com/notebooks/data_table.ipynb>data table notebook</a>'\n",
              "            + ' to learn more about interactive tables.';\n",
              "          element.innerHTML = '';\n",
              "          dataTable['output_type'] = 'display_data';\n",
              "          await google.colab.output.renderOutput(dataTable, element);\n",
              "          const docLink = document.createElement('div');\n",
              "          docLink.innerHTML = docLinkHtml;\n",
              "          element.appendChild(docLink);\n",
              "        }\n",
              "      </script>\n",
              "    </div>\n",
              "  </div>\n",
              "  "
            ]
          },
          "metadata": {},
          "execution_count": 22
        }
      ]
    },
    {
      "cell_type": "markdown",
      "source": [
        "## Tokenização"
      ],
      "metadata": {
        "id": "oHDYa3RIw90O"
      }
    },
    {
      "cell_type": "code",
      "source": [
        "X_train, X_test, y_train, y_test = train_test_split(data.email, data.label, test_size = 0.3, stratify=data.label)\n",
        "\n",
        "print(X_train)"
      ],
      "metadata": {
        "colab": {
          "base_uri": "https://localhost:8080/"
        },
        "id": "zWXuPS_TQD7x",
        "outputId": "92308208-c63d-489b-84cf-b35cb32eb75f"
      },
      "execution_count": null,
      "outputs": [
        {
          "output_type": "stream",
          "name": "stdout",
          "text": [
            "81      reference non human language content length nu...\n",
            "2682    program indigenous language brazil typo recent...\n",
            "1650    sum frequency week ago query linguist list fre...\n",
            "807     special offer eu workshop esslli number novelt...\n",
            "698     contragram number quarterly newsletter contras...\n",
            "                              ...                        \n",
            "1899    december conference preliminary announcement i...\n",
            "139     ems good software good money remove instructio...\n",
            "1662    pragmatic critical concept pragmatic critical ...\n",
            "249     sum c gemination syntactic content length phon...\n",
            "1399    scil number paper student conference linguisti...\n",
            "Name: email, Length: 2025, dtype: object\n"
          ]
        }
      ]
    },
    {
      "cell_type": "code",
      "source": [
        "vectorizer = TfidfVectorizer(min_df=3) # minimo de ocorrencias\n",
        "\n",
        "X = vectorizer.fit_transform(X_train)\n",
        "\n",
        "vectorizer.get_feature_names_out()"
      ],
      "metadata": {
        "colab": {
          "base_uri": "https://localhost:8080/"
        },
        "id": "plboCWveRpDi",
        "outputId": "e86c738f-ce83-4718-a031-e61f081be10d"
      },
      "execution_count": null,
      "outputs": [
        {
          "output_type": "execute_result",
          "data": {
            "text/plain": [
              "array(['aa', 'aaa', 'aaai', ..., 'zwicky', 'zwischen', 'zygmunt'],\n",
              "      dtype=object)"
            ]
          },
          "metadata": {},
          "execution_count": 24
        }
      ]
    },
    {
      "cell_type": "code",
      "source": [
        "print(vectorizer.get_stop_words())"
      ],
      "metadata": {
        "colab": {
          "base_uri": "https://localhost:8080/"
        },
        "id": "PcTF4RxTTc85",
        "outputId": "57932dae-3249-4718-9755-a8cb09fd7bb2"
      },
      "execution_count": null,
      "outputs": [
        {
          "output_type": "stream",
          "name": "stdout",
          "text": [
            "None\n"
          ]
        }
      ]
    },
    {
      "cell_type": "code",
      "source": [
        "pd.DataFrame(X.toarray(), columns=vectorizer.get_feature_names_out())"
      ],
      "metadata": {
        "colab": {
          "base_uri": "https://localhost:8080/",
          "height": 424
        },
        "id": "R9f3Z69AXRKv",
        "outputId": "2676adb8-7f2d-4e3b-8eae-68e66b9a1966"
      },
      "execution_count": null,
      "outputs": [
        {
          "output_type": "execute_result",
          "data": {
            "text/plain": [
              "       aa  aaa  aaai  aachen  aalborg  aamodt  aamt  aan  aarhus  aaron  ...  \\\n",
              "0     0.0  0.0   0.0     0.0      0.0     0.0   0.0  0.0     0.0    0.0  ...   \n",
              "1     0.0  0.0   0.0     0.0      0.0     0.0   0.0  0.0     0.0    0.0  ...   \n",
              "2     0.0  0.0   0.0     0.0      0.0     0.0   0.0  0.0     0.0    0.0  ...   \n",
              "3     0.0  0.0   0.0     0.0      0.0     0.0   0.0  0.0     0.0    0.0  ...   \n",
              "4     0.0  0.0   0.0     0.0      0.0     0.0   0.0  0.0     0.0    0.0  ...   \n",
              "...   ...  ...   ...     ...      ...     ...   ...  ...     ...    ...  ...   \n",
              "2020  0.0  0.0   0.0     0.0      0.0     0.0   0.0  0.0     0.0    0.0  ...   \n",
              "2021  0.0  0.0   0.0     0.0      0.0     0.0   0.0  0.0     0.0    0.0  ...   \n",
              "2022  0.0  0.0   0.0     0.0      0.0     0.0   0.0  0.0     0.0    0.0  ...   \n",
              "2023  0.0  0.0   0.0     0.0      0.0     0.0   0.0  0.0     0.0    0.0  ...   \n",
              "2024  0.0  0.0   0.0     0.0      0.0     0.0   0.0  0.0     0.0    0.0  ...   \n",
              "\n",
              "      zuber  zubizarreta  zum  zur  zurich  zwart  zweigenbaum  zwicky  \\\n",
              "0       0.0          0.0  0.0  0.0     0.0    0.0          0.0     0.0   \n",
              "1       0.0          0.0  0.0  0.0     0.0    0.0          0.0     0.0   \n",
              "2       0.0          0.0  0.0  0.0     0.0    0.0          0.0     0.0   \n",
              "3       0.0          0.0  0.0  0.0     0.0    0.0          0.0     0.0   \n",
              "4       0.0          0.0  0.0  0.0     0.0    0.0          0.0     0.0   \n",
              "...     ...          ...  ...  ...     ...    ...          ...     ...   \n",
              "2020    0.0          0.0  0.0  0.0     0.0    0.0          0.0     0.0   \n",
              "2021    0.0          0.0  0.0  0.0     0.0    0.0          0.0     0.0   \n",
              "2022    0.0          0.0  0.0  0.0     0.0    0.0          0.0     0.0   \n",
              "2023    0.0          0.0  0.0  0.0     0.0    0.0          0.0     0.0   \n",
              "2024    0.0          0.0  0.0  0.0     0.0    0.0          0.0     0.0   \n",
              "\n",
              "      zwischen  zygmunt  \n",
              "0          0.0      0.0  \n",
              "1          0.0      0.0  \n",
              "2          0.0      0.0  \n",
              "3          0.0      0.0  \n",
              "4          0.0      0.0  \n",
              "...        ...      ...  \n",
              "2020       0.0      0.0  \n",
              "2021       0.0      0.0  \n",
              "2022       0.0      0.0  \n",
              "2023       0.0      0.0  \n",
              "2024       0.0      0.0  \n",
              "\n",
              "[2025 rows x 12624 columns]"
            ],
            "text/html": [
              "\n",
              "  <div id=\"df-3ee5130b-001c-4c2e-ba1a-f46037ce953e\">\n",
              "    <div class=\"colab-df-container\">\n",
              "      <div>\n",
              "<style scoped>\n",
              "    .dataframe tbody tr th:only-of-type {\n",
              "        vertical-align: middle;\n",
              "    }\n",
              "\n",
              "    .dataframe tbody tr th {\n",
              "        vertical-align: top;\n",
              "    }\n",
              "\n",
              "    .dataframe thead th {\n",
              "        text-align: right;\n",
              "    }\n",
              "</style>\n",
              "<table border=\"1\" class=\"dataframe\">\n",
              "  <thead>\n",
              "    <tr style=\"text-align: right;\">\n",
              "      <th></th>\n",
              "      <th>aa</th>\n",
              "      <th>aaa</th>\n",
              "      <th>aaai</th>\n",
              "      <th>aachen</th>\n",
              "      <th>aalborg</th>\n",
              "      <th>aamodt</th>\n",
              "      <th>aamt</th>\n",
              "      <th>aan</th>\n",
              "      <th>aarhus</th>\n",
              "      <th>aaron</th>\n",
              "      <th>...</th>\n",
              "      <th>zuber</th>\n",
              "      <th>zubizarreta</th>\n",
              "      <th>zum</th>\n",
              "      <th>zur</th>\n",
              "      <th>zurich</th>\n",
              "      <th>zwart</th>\n",
              "      <th>zweigenbaum</th>\n",
              "      <th>zwicky</th>\n",
              "      <th>zwischen</th>\n",
              "      <th>zygmunt</th>\n",
              "    </tr>\n",
              "  </thead>\n",
              "  <tbody>\n",
              "    <tr>\n",
              "      <th>0</th>\n",
              "      <td>0.0</td>\n",
              "      <td>0.0</td>\n",
              "      <td>0.0</td>\n",
              "      <td>0.0</td>\n",
              "      <td>0.0</td>\n",
              "      <td>0.0</td>\n",
              "      <td>0.0</td>\n",
              "      <td>0.0</td>\n",
              "      <td>0.0</td>\n",
              "      <td>0.0</td>\n",
              "      <td>...</td>\n",
              "      <td>0.0</td>\n",
              "      <td>0.0</td>\n",
              "      <td>0.0</td>\n",
              "      <td>0.0</td>\n",
              "      <td>0.0</td>\n",
              "      <td>0.0</td>\n",
              "      <td>0.0</td>\n",
              "      <td>0.0</td>\n",
              "      <td>0.0</td>\n",
              "      <td>0.0</td>\n",
              "    </tr>\n",
              "    <tr>\n",
              "      <th>1</th>\n",
              "      <td>0.0</td>\n",
              "      <td>0.0</td>\n",
              "      <td>0.0</td>\n",
              "      <td>0.0</td>\n",
              "      <td>0.0</td>\n",
              "      <td>0.0</td>\n",
              "      <td>0.0</td>\n",
              "      <td>0.0</td>\n",
              "      <td>0.0</td>\n",
              "      <td>0.0</td>\n",
              "      <td>...</td>\n",
              "      <td>0.0</td>\n",
              "      <td>0.0</td>\n",
              "      <td>0.0</td>\n",
              "      <td>0.0</td>\n",
              "      <td>0.0</td>\n",
              "      <td>0.0</td>\n",
              "      <td>0.0</td>\n",
              "      <td>0.0</td>\n",
              "      <td>0.0</td>\n",
              "      <td>0.0</td>\n",
              "    </tr>\n",
              "    <tr>\n",
              "      <th>2</th>\n",
              "      <td>0.0</td>\n",
              "      <td>0.0</td>\n",
              "      <td>0.0</td>\n",
              "      <td>0.0</td>\n",
              "      <td>0.0</td>\n",
              "      <td>0.0</td>\n",
              "      <td>0.0</td>\n",
              "      <td>0.0</td>\n",
              "      <td>0.0</td>\n",
              "      <td>0.0</td>\n",
              "      <td>...</td>\n",
              "      <td>0.0</td>\n",
              "      <td>0.0</td>\n",
              "      <td>0.0</td>\n",
              "      <td>0.0</td>\n",
              "      <td>0.0</td>\n",
              "      <td>0.0</td>\n",
              "      <td>0.0</td>\n",
              "      <td>0.0</td>\n",
              "      <td>0.0</td>\n",
              "      <td>0.0</td>\n",
              "    </tr>\n",
              "    <tr>\n",
              "      <th>3</th>\n",
              "      <td>0.0</td>\n",
              "      <td>0.0</td>\n",
              "      <td>0.0</td>\n",
              "      <td>0.0</td>\n",
              "      <td>0.0</td>\n",
              "      <td>0.0</td>\n",
              "      <td>0.0</td>\n",
              "      <td>0.0</td>\n",
              "      <td>0.0</td>\n",
              "      <td>0.0</td>\n",
              "      <td>...</td>\n",
              "      <td>0.0</td>\n",
              "      <td>0.0</td>\n",
              "      <td>0.0</td>\n",
              "      <td>0.0</td>\n",
              "      <td>0.0</td>\n",
              "      <td>0.0</td>\n",
              "      <td>0.0</td>\n",
              "      <td>0.0</td>\n",
              "      <td>0.0</td>\n",
              "      <td>0.0</td>\n",
              "    </tr>\n",
              "    <tr>\n",
              "      <th>4</th>\n",
              "      <td>0.0</td>\n",
              "      <td>0.0</td>\n",
              "      <td>0.0</td>\n",
              "      <td>0.0</td>\n",
              "      <td>0.0</td>\n",
              "      <td>0.0</td>\n",
              "      <td>0.0</td>\n",
              "      <td>0.0</td>\n",
              "      <td>0.0</td>\n",
              "      <td>0.0</td>\n",
              "      <td>...</td>\n",
              "      <td>0.0</td>\n",
              "      <td>0.0</td>\n",
              "      <td>0.0</td>\n",
              "      <td>0.0</td>\n",
              "      <td>0.0</td>\n",
              "      <td>0.0</td>\n",
              "      <td>0.0</td>\n",
              "      <td>0.0</td>\n",
              "      <td>0.0</td>\n",
              "      <td>0.0</td>\n",
              "    </tr>\n",
              "    <tr>\n",
              "      <th>...</th>\n",
              "      <td>...</td>\n",
              "      <td>...</td>\n",
              "      <td>...</td>\n",
              "      <td>...</td>\n",
              "      <td>...</td>\n",
              "      <td>...</td>\n",
              "      <td>...</td>\n",
              "      <td>...</td>\n",
              "      <td>...</td>\n",
              "      <td>...</td>\n",
              "      <td>...</td>\n",
              "      <td>...</td>\n",
              "      <td>...</td>\n",
              "      <td>...</td>\n",
              "      <td>...</td>\n",
              "      <td>...</td>\n",
              "      <td>...</td>\n",
              "      <td>...</td>\n",
              "      <td>...</td>\n",
              "      <td>...</td>\n",
              "      <td>...</td>\n",
              "    </tr>\n",
              "    <tr>\n",
              "      <th>2020</th>\n",
              "      <td>0.0</td>\n",
              "      <td>0.0</td>\n",
              "      <td>0.0</td>\n",
              "      <td>0.0</td>\n",
              "      <td>0.0</td>\n",
              "      <td>0.0</td>\n",
              "      <td>0.0</td>\n",
              "      <td>0.0</td>\n",
              "      <td>0.0</td>\n",
              "      <td>0.0</td>\n",
              "      <td>...</td>\n",
              "      <td>0.0</td>\n",
              "      <td>0.0</td>\n",
              "      <td>0.0</td>\n",
              "      <td>0.0</td>\n",
              "      <td>0.0</td>\n",
              "      <td>0.0</td>\n",
              "      <td>0.0</td>\n",
              "      <td>0.0</td>\n",
              "      <td>0.0</td>\n",
              "      <td>0.0</td>\n",
              "    </tr>\n",
              "    <tr>\n",
              "      <th>2021</th>\n",
              "      <td>0.0</td>\n",
              "      <td>0.0</td>\n",
              "      <td>0.0</td>\n",
              "      <td>0.0</td>\n",
              "      <td>0.0</td>\n",
              "      <td>0.0</td>\n",
              "      <td>0.0</td>\n",
              "      <td>0.0</td>\n",
              "      <td>0.0</td>\n",
              "      <td>0.0</td>\n",
              "      <td>...</td>\n",
              "      <td>0.0</td>\n",
              "      <td>0.0</td>\n",
              "      <td>0.0</td>\n",
              "      <td>0.0</td>\n",
              "      <td>0.0</td>\n",
              "      <td>0.0</td>\n",
              "      <td>0.0</td>\n",
              "      <td>0.0</td>\n",
              "      <td>0.0</td>\n",
              "      <td>0.0</td>\n",
              "    </tr>\n",
              "    <tr>\n",
              "      <th>2022</th>\n",
              "      <td>0.0</td>\n",
              "      <td>0.0</td>\n",
              "      <td>0.0</td>\n",
              "      <td>0.0</td>\n",
              "      <td>0.0</td>\n",
              "      <td>0.0</td>\n",
              "      <td>0.0</td>\n",
              "      <td>0.0</td>\n",
              "      <td>0.0</td>\n",
              "      <td>0.0</td>\n",
              "      <td>...</td>\n",
              "      <td>0.0</td>\n",
              "      <td>0.0</td>\n",
              "      <td>0.0</td>\n",
              "      <td>0.0</td>\n",
              "      <td>0.0</td>\n",
              "      <td>0.0</td>\n",
              "      <td>0.0</td>\n",
              "      <td>0.0</td>\n",
              "      <td>0.0</td>\n",
              "      <td>0.0</td>\n",
              "    </tr>\n",
              "    <tr>\n",
              "      <th>2023</th>\n",
              "      <td>0.0</td>\n",
              "      <td>0.0</td>\n",
              "      <td>0.0</td>\n",
              "      <td>0.0</td>\n",
              "      <td>0.0</td>\n",
              "      <td>0.0</td>\n",
              "      <td>0.0</td>\n",
              "      <td>0.0</td>\n",
              "      <td>0.0</td>\n",
              "      <td>0.0</td>\n",
              "      <td>...</td>\n",
              "      <td>0.0</td>\n",
              "      <td>0.0</td>\n",
              "      <td>0.0</td>\n",
              "      <td>0.0</td>\n",
              "      <td>0.0</td>\n",
              "      <td>0.0</td>\n",
              "      <td>0.0</td>\n",
              "      <td>0.0</td>\n",
              "      <td>0.0</td>\n",
              "      <td>0.0</td>\n",
              "    </tr>\n",
              "    <tr>\n",
              "      <th>2024</th>\n",
              "      <td>0.0</td>\n",
              "      <td>0.0</td>\n",
              "      <td>0.0</td>\n",
              "      <td>0.0</td>\n",
              "      <td>0.0</td>\n",
              "      <td>0.0</td>\n",
              "      <td>0.0</td>\n",
              "      <td>0.0</td>\n",
              "      <td>0.0</td>\n",
              "      <td>0.0</td>\n",
              "      <td>...</td>\n",
              "      <td>0.0</td>\n",
              "      <td>0.0</td>\n",
              "      <td>0.0</td>\n",
              "      <td>0.0</td>\n",
              "      <td>0.0</td>\n",
              "      <td>0.0</td>\n",
              "      <td>0.0</td>\n",
              "      <td>0.0</td>\n",
              "      <td>0.0</td>\n",
              "      <td>0.0</td>\n",
              "    </tr>\n",
              "  </tbody>\n",
              "</table>\n",
              "<p>2025 rows × 12624 columns</p>\n",
              "</div>\n",
              "      <button class=\"colab-df-convert\" onclick=\"convertToInteractive('df-3ee5130b-001c-4c2e-ba1a-f46037ce953e')\"\n",
              "              title=\"Convert this dataframe to an interactive table.\"\n",
              "              style=\"display:none;\">\n",
              "        \n",
              "  <svg xmlns=\"http://www.w3.org/2000/svg\" height=\"24px\"viewBox=\"0 0 24 24\"\n",
              "       width=\"24px\">\n",
              "    <path d=\"M0 0h24v24H0V0z\" fill=\"none\"/>\n",
              "    <path d=\"M18.56 5.44l.94 2.06.94-2.06 2.06-.94-2.06-.94-.94-2.06-.94 2.06-2.06.94zm-11 1L8.5 8.5l.94-2.06 2.06-.94-2.06-.94L8.5 2.5l-.94 2.06-2.06.94zm10 10l.94 2.06.94-2.06 2.06-.94-2.06-.94-.94-2.06-.94 2.06-2.06.94z\"/><path d=\"M17.41 7.96l-1.37-1.37c-.4-.4-.92-.59-1.43-.59-.52 0-1.04.2-1.43.59L10.3 9.45l-7.72 7.72c-.78.78-.78 2.05 0 2.83L4 21.41c.39.39.9.59 1.41.59.51 0 1.02-.2 1.41-.59l7.78-7.78 2.81-2.81c.8-.78.8-2.07 0-2.86zM5.41 20L4 18.59l7.72-7.72 1.47 1.35L5.41 20z\"/>\n",
              "  </svg>\n",
              "      </button>\n",
              "      \n",
              "  <style>\n",
              "    .colab-df-container {\n",
              "      display:flex;\n",
              "      flex-wrap:wrap;\n",
              "      gap: 12px;\n",
              "    }\n",
              "\n",
              "    .colab-df-convert {\n",
              "      background-color: #E8F0FE;\n",
              "      border: none;\n",
              "      border-radius: 50%;\n",
              "      cursor: pointer;\n",
              "      display: none;\n",
              "      fill: #1967D2;\n",
              "      height: 32px;\n",
              "      padding: 0 0 0 0;\n",
              "      width: 32px;\n",
              "    }\n",
              "\n",
              "    .colab-df-convert:hover {\n",
              "      background-color: #E2EBFA;\n",
              "      box-shadow: 0px 1px 2px rgba(60, 64, 67, 0.3), 0px 1px 3px 1px rgba(60, 64, 67, 0.15);\n",
              "      fill: #174EA6;\n",
              "    }\n",
              "\n",
              "    [theme=dark] .colab-df-convert {\n",
              "      background-color: #3B4455;\n",
              "      fill: #D2E3FC;\n",
              "    }\n",
              "\n",
              "    [theme=dark] .colab-df-convert:hover {\n",
              "      background-color: #434B5C;\n",
              "      box-shadow: 0px 1px 3px 1px rgba(0, 0, 0, 0.15);\n",
              "      filter: drop-shadow(0px 1px 2px rgba(0, 0, 0, 0.3));\n",
              "      fill: #FFFFFF;\n",
              "    }\n",
              "  </style>\n",
              "\n",
              "      <script>\n",
              "        const buttonEl =\n",
              "          document.querySelector('#df-3ee5130b-001c-4c2e-ba1a-f46037ce953e button.colab-df-convert');\n",
              "        buttonEl.style.display =\n",
              "          google.colab.kernel.accessAllowed ? 'block' : 'none';\n",
              "\n",
              "        async function convertToInteractive(key) {\n",
              "          const element = document.querySelector('#df-3ee5130b-001c-4c2e-ba1a-f46037ce953e');\n",
              "          const dataTable =\n",
              "            await google.colab.kernel.invokeFunction('convertToInteractive',\n",
              "                                                     [key], {});\n",
              "          if (!dataTable) return;\n",
              "\n",
              "          const docLinkHtml = 'Like what you see? Visit the ' +\n",
              "            '<a target=\"_blank\" href=https://colab.research.google.com/notebooks/data_table.ipynb>data table notebook</a>'\n",
              "            + ' to learn more about interactive tables.';\n",
              "          element.innerHTML = '';\n",
              "          dataTable['output_type'] = 'display_data';\n",
              "          await google.colab.output.renderOutput(dataTable, element);\n",
              "          const docLink = document.createElement('div');\n",
              "          docLink.innerHTML = docLinkHtml;\n",
              "          element.appendChild(docLink);\n",
              "        }\n",
              "      </script>\n",
              "    </div>\n",
              "  </div>\n",
              "  "
            ]
          },
          "metadata": {},
          "execution_count": 26
        }
      ]
    },
    {
      "cell_type": "markdown",
      "source": [
        "# SVM"
      ],
      "metadata": {
        "id": "4p4OXj7BlC17"
      }
    },
    {
      "cell_type": "code",
      "source": [
        "svm = SVC()"
      ],
      "metadata": {
        "id": "__atI3a-NcTS"
      },
      "execution_count": null,
      "outputs": []
    },
    {
      "cell_type": "code",
      "source": [
        "pipe = Pipeline(steps=[(\"vectorizer\", vectorizer), (\"classifier\", svm)])\n",
        "\n",
        "param_grid = {\"classifier__kernel\":['linear', 'poly', 'rbf', 'sigmoid'], \"classifier__C\":[1, 3, 7]}\n",
        "\n",
        "best_svm = GridSearchCV(pipe, param_grid, scoring=('f1_weighted'), cv=3)\n",
        "\n",
        "model_svm = best_svm.fit(X_train, y_train)\n",
        "\n",
        "df = pd.DataFrame(best_svm.cv_results_)\n",
        "\n",
        "df"
      ],
      "metadata": {
        "colab": {
          "base_uri": "https://localhost:8080/",
          "height": 906
        },
        "id": "1SZXK7R0oY4V",
        "outputId": "6085935b-3be8-4817-bad2-ec28eb3d3390"
      },
      "execution_count": null,
      "outputs": [
        {
          "output_type": "execute_result",
          "data": {
            "text/plain": [
              "    mean_fit_time  std_fit_time  mean_score_time  std_score_time  \\\n",
              "0        0.754036      0.094511         0.348751        0.048496   \n",
              "1        1.749475      0.041181         0.796575        0.012761   \n",
              "2        1.491933      0.207413         0.510102        0.036401   \n",
              "3        0.547564      0.032943         0.249093        0.006882   \n",
              "4        0.593710      0.023833         0.277759        0.001592   \n",
              "5        1.906179      0.208762         0.814369        0.030924   \n",
              "6        1.391320      0.052139         0.486785        0.008649   \n",
              "7        0.631665      0.087897         0.314577        0.045490   \n",
              "8        0.595559      0.034031         0.281626        0.001853   \n",
              "9        1.816115      0.022500         0.886468        0.139044   \n",
              "10       1.417888      0.104482         0.486423        0.006951   \n",
              "11       0.509723      0.017124         0.237054        0.010872   \n",
              "\n",
              "   param_classifier__C param_classifier__kernel  \\\n",
              "0                    1                   linear   \n",
              "1                    1                     poly   \n",
              "2                    1                      rbf   \n",
              "3                    1                  sigmoid   \n",
              "4                    3                   linear   \n",
              "5                    3                     poly   \n",
              "6                    3                      rbf   \n",
              "7                    3                  sigmoid   \n",
              "8                    7                   linear   \n",
              "9                    7                     poly   \n",
              "10                   7                      rbf   \n",
              "11                   7                  sigmoid   \n",
              "\n",
              "                                               params  split0_test_score  \\\n",
              "0   {'classifier__C': 1, 'classifier__kernel': 'li...           0.995531   \n",
              "1   {'classifier__C': 1, 'classifier__kernel': 'po...           0.903179   \n",
              "2   {'classifier__C': 1, 'classifier__kernel': 'rbf'}           0.981813   \n",
              "3   {'classifier__C': 1, 'classifier__kernel': 'si...           0.997026   \n",
              "4   {'classifier__C': 3, 'classifier__kernel': 'li...           0.995531   \n",
              "5   {'classifier__C': 3, 'classifier__kernel': 'po...           0.909125   \n",
              "6   {'classifier__C': 3, 'classifier__kernel': 'rbf'}           0.984904   \n",
              "7   {'classifier__C': 3, 'classifier__kernel': 'si...           0.998516   \n",
              "8   {'classifier__C': 7, 'classifier__kernel': 'li...           0.995531   \n",
              "9   {'classifier__C': 7, 'classifier__kernel': 'po...           0.909125   \n",
              "10  {'classifier__C': 7, 'classifier__kernel': 'rbf'}           0.984904   \n",
              "11  {'classifier__C': 7, 'classifier__kernel': 'si...           0.998516   \n",
              "\n",
              "    split1_test_score  split2_test_score  mean_test_score  std_test_score  \\\n",
              "0            0.994031           0.986545         0.992036        0.003930   \n",
              "1            0.871276           0.889010         0.887822        0.013052   \n",
              "2            0.980257           0.978787         0.980286        0.001235   \n",
              "3            0.992524           0.986545         0.992032        0.004293   \n",
              "4            0.995531           0.986545         0.992536        0.004236   \n",
              "5            0.882348           0.897299         0.896257        0.010956   \n",
              "6            0.984904           0.978787         0.982865        0.002884   \n",
              "7            0.997026           0.988062         0.994535        0.004617   \n",
              "8            0.995531           0.986545         0.992536        0.004236   \n",
              "9            0.882348           0.897299         0.896257        0.010956   \n",
              "10           0.984904           0.978787         0.982865        0.002884   \n",
              "11           0.994031           0.991079         0.994542        0.003057   \n",
              "\n",
              "    rank_test_score  \n",
              "0                 5  \n",
              "1                12  \n",
              "2                 9  \n",
              "3                 6  \n",
              "4                 3  \n",
              "5                10  \n",
              "6                 7  \n",
              "7                 2  \n",
              "8                 3  \n",
              "9                10  \n",
              "10                7  \n",
              "11                1  "
            ],
            "text/html": [
              "\n",
              "  <div id=\"df-d68babb8-da78-4e23-bbb1-606432be1c0c\">\n",
              "    <div class=\"colab-df-container\">\n",
              "      <div>\n",
              "<style scoped>\n",
              "    .dataframe tbody tr th:only-of-type {\n",
              "        vertical-align: middle;\n",
              "    }\n",
              "\n",
              "    .dataframe tbody tr th {\n",
              "        vertical-align: top;\n",
              "    }\n",
              "\n",
              "    .dataframe thead th {\n",
              "        text-align: right;\n",
              "    }\n",
              "</style>\n",
              "<table border=\"1\" class=\"dataframe\">\n",
              "  <thead>\n",
              "    <tr style=\"text-align: right;\">\n",
              "      <th></th>\n",
              "      <th>mean_fit_time</th>\n",
              "      <th>std_fit_time</th>\n",
              "      <th>mean_score_time</th>\n",
              "      <th>std_score_time</th>\n",
              "      <th>param_classifier__C</th>\n",
              "      <th>param_classifier__kernel</th>\n",
              "      <th>params</th>\n",
              "      <th>split0_test_score</th>\n",
              "      <th>split1_test_score</th>\n",
              "      <th>split2_test_score</th>\n",
              "      <th>mean_test_score</th>\n",
              "      <th>std_test_score</th>\n",
              "      <th>rank_test_score</th>\n",
              "    </tr>\n",
              "  </thead>\n",
              "  <tbody>\n",
              "    <tr>\n",
              "      <th>0</th>\n",
              "      <td>0.754036</td>\n",
              "      <td>0.094511</td>\n",
              "      <td>0.348751</td>\n",
              "      <td>0.048496</td>\n",
              "      <td>1</td>\n",
              "      <td>linear</td>\n",
              "      <td>{'classifier__C': 1, 'classifier__kernel': 'li...</td>\n",
              "      <td>0.995531</td>\n",
              "      <td>0.994031</td>\n",
              "      <td>0.986545</td>\n",
              "      <td>0.992036</td>\n",
              "      <td>0.003930</td>\n",
              "      <td>5</td>\n",
              "    </tr>\n",
              "    <tr>\n",
              "      <th>1</th>\n",
              "      <td>1.749475</td>\n",
              "      <td>0.041181</td>\n",
              "      <td>0.796575</td>\n",
              "      <td>0.012761</td>\n",
              "      <td>1</td>\n",
              "      <td>poly</td>\n",
              "      <td>{'classifier__C': 1, 'classifier__kernel': 'po...</td>\n",
              "      <td>0.903179</td>\n",
              "      <td>0.871276</td>\n",
              "      <td>0.889010</td>\n",
              "      <td>0.887822</td>\n",
              "      <td>0.013052</td>\n",
              "      <td>12</td>\n",
              "    </tr>\n",
              "    <tr>\n",
              "      <th>2</th>\n",
              "      <td>1.491933</td>\n",
              "      <td>0.207413</td>\n",
              "      <td>0.510102</td>\n",
              "      <td>0.036401</td>\n",
              "      <td>1</td>\n",
              "      <td>rbf</td>\n",
              "      <td>{'classifier__C': 1, 'classifier__kernel': 'rbf'}</td>\n",
              "      <td>0.981813</td>\n",
              "      <td>0.980257</td>\n",
              "      <td>0.978787</td>\n",
              "      <td>0.980286</td>\n",
              "      <td>0.001235</td>\n",
              "      <td>9</td>\n",
              "    </tr>\n",
              "    <tr>\n",
              "      <th>3</th>\n",
              "      <td>0.547564</td>\n",
              "      <td>0.032943</td>\n",
              "      <td>0.249093</td>\n",
              "      <td>0.006882</td>\n",
              "      <td>1</td>\n",
              "      <td>sigmoid</td>\n",
              "      <td>{'classifier__C': 1, 'classifier__kernel': 'si...</td>\n",
              "      <td>0.997026</td>\n",
              "      <td>0.992524</td>\n",
              "      <td>0.986545</td>\n",
              "      <td>0.992032</td>\n",
              "      <td>0.004293</td>\n",
              "      <td>6</td>\n",
              "    </tr>\n",
              "    <tr>\n",
              "      <th>4</th>\n",
              "      <td>0.593710</td>\n",
              "      <td>0.023833</td>\n",
              "      <td>0.277759</td>\n",
              "      <td>0.001592</td>\n",
              "      <td>3</td>\n",
              "      <td>linear</td>\n",
              "      <td>{'classifier__C': 3, 'classifier__kernel': 'li...</td>\n",
              "      <td>0.995531</td>\n",
              "      <td>0.995531</td>\n",
              "      <td>0.986545</td>\n",
              "      <td>0.992536</td>\n",
              "      <td>0.004236</td>\n",
              "      <td>3</td>\n",
              "    </tr>\n",
              "    <tr>\n",
              "      <th>5</th>\n",
              "      <td>1.906179</td>\n",
              "      <td>0.208762</td>\n",
              "      <td>0.814369</td>\n",
              "      <td>0.030924</td>\n",
              "      <td>3</td>\n",
              "      <td>poly</td>\n",
              "      <td>{'classifier__C': 3, 'classifier__kernel': 'po...</td>\n",
              "      <td>0.909125</td>\n",
              "      <td>0.882348</td>\n",
              "      <td>0.897299</td>\n",
              "      <td>0.896257</td>\n",
              "      <td>0.010956</td>\n",
              "      <td>10</td>\n",
              "    </tr>\n",
              "    <tr>\n",
              "      <th>6</th>\n",
              "      <td>1.391320</td>\n",
              "      <td>0.052139</td>\n",
              "      <td>0.486785</td>\n",
              "      <td>0.008649</td>\n",
              "      <td>3</td>\n",
              "      <td>rbf</td>\n",
              "      <td>{'classifier__C': 3, 'classifier__kernel': 'rbf'}</td>\n",
              "      <td>0.984904</td>\n",
              "      <td>0.984904</td>\n",
              "      <td>0.978787</td>\n",
              "      <td>0.982865</td>\n",
              "      <td>0.002884</td>\n",
              "      <td>7</td>\n",
              "    </tr>\n",
              "    <tr>\n",
              "      <th>7</th>\n",
              "      <td>0.631665</td>\n",
              "      <td>0.087897</td>\n",
              "      <td>0.314577</td>\n",
              "      <td>0.045490</td>\n",
              "      <td>3</td>\n",
              "      <td>sigmoid</td>\n",
              "      <td>{'classifier__C': 3, 'classifier__kernel': 'si...</td>\n",
              "      <td>0.998516</td>\n",
              "      <td>0.997026</td>\n",
              "      <td>0.988062</td>\n",
              "      <td>0.994535</td>\n",
              "      <td>0.004617</td>\n",
              "      <td>2</td>\n",
              "    </tr>\n",
              "    <tr>\n",
              "      <th>8</th>\n",
              "      <td>0.595559</td>\n",
              "      <td>0.034031</td>\n",
              "      <td>0.281626</td>\n",
              "      <td>0.001853</td>\n",
              "      <td>7</td>\n",
              "      <td>linear</td>\n",
              "      <td>{'classifier__C': 7, 'classifier__kernel': 'li...</td>\n",
              "      <td>0.995531</td>\n",
              "      <td>0.995531</td>\n",
              "      <td>0.986545</td>\n",
              "      <td>0.992536</td>\n",
              "      <td>0.004236</td>\n",
              "      <td>3</td>\n",
              "    </tr>\n",
              "    <tr>\n",
              "      <th>9</th>\n",
              "      <td>1.816115</td>\n",
              "      <td>0.022500</td>\n",
              "      <td>0.886468</td>\n",
              "      <td>0.139044</td>\n",
              "      <td>7</td>\n",
              "      <td>poly</td>\n",
              "      <td>{'classifier__C': 7, 'classifier__kernel': 'po...</td>\n",
              "      <td>0.909125</td>\n",
              "      <td>0.882348</td>\n",
              "      <td>0.897299</td>\n",
              "      <td>0.896257</td>\n",
              "      <td>0.010956</td>\n",
              "      <td>10</td>\n",
              "    </tr>\n",
              "    <tr>\n",
              "      <th>10</th>\n",
              "      <td>1.417888</td>\n",
              "      <td>0.104482</td>\n",
              "      <td>0.486423</td>\n",
              "      <td>0.006951</td>\n",
              "      <td>7</td>\n",
              "      <td>rbf</td>\n",
              "      <td>{'classifier__C': 7, 'classifier__kernel': 'rbf'}</td>\n",
              "      <td>0.984904</td>\n",
              "      <td>0.984904</td>\n",
              "      <td>0.978787</td>\n",
              "      <td>0.982865</td>\n",
              "      <td>0.002884</td>\n",
              "      <td>7</td>\n",
              "    </tr>\n",
              "    <tr>\n",
              "      <th>11</th>\n",
              "      <td>0.509723</td>\n",
              "      <td>0.017124</td>\n",
              "      <td>0.237054</td>\n",
              "      <td>0.010872</td>\n",
              "      <td>7</td>\n",
              "      <td>sigmoid</td>\n",
              "      <td>{'classifier__C': 7, 'classifier__kernel': 'si...</td>\n",
              "      <td>0.998516</td>\n",
              "      <td>0.994031</td>\n",
              "      <td>0.991079</td>\n",
              "      <td>0.994542</td>\n",
              "      <td>0.003057</td>\n",
              "      <td>1</td>\n",
              "    </tr>\n",
              "  </tbody>\n",
              "</table>\n",
              "</div>\n",
              "      <button class=\"colab-df-convert\" onclick=\"convertToInteractive('df-d68babb8-da78-4e23-bbb1-606432be1c0c')\"\n",
              "              title=\"Convert this dataframe to an interactive table.\"\n",
              "              style=\"display:none;\">\n",
              "        \n",
              "  <svg xmlns=\"http://www.w3.org/2000/svg\" height=\"24px\"viewBox=\"0 0 24 24\"\n",
              "       width=\"24px\">\n",
              "    <path d=\"M0 0h24v24H0V0z\" fill=\"none\"/>\n",
              "    <path d=\"M18.56 5.44l.94 2.06.94-2.06 2.06-.94-2.06-.94-.94-2.06-.94 2.06-2.06.94zm-11 1L8.5 8.5l.94-2.06 2.06-.94-2.06-.94L8.5 2.5l-.94 2.06-2.06.94zm10 10l.94 2.06.94-2.06 2.06-.94-2.06-.94-.94-2.06-.94 2.06-2.06.94z\"/><path d=\"M17.41 7.96l-1.37-1.37c-.4-.4-.92-.59-1.43-.59-.52 0-1.04.2-1.43.59L10.3 9.45l-7.72 7.72c-.78.78-.78 2.05 0 2.83L4 21.41c.39.39.9.59 1.41.59.51 0 1.02-.2 1.41-.59l7.78-7.78 2.81-2.81c.8-.78.8-2.07 0-2.86zM5.41 20L4 18.59l7.72-7.72 1.47 1.35L5.41 20z\"/>\n",
              "  </svg>\n",
              "      </button>\n",
              "      \n",
              "  <style>\n",
              "    .colab-df-container {\n",
              "      display:flex;\n",
              "      flex-wrap:wrap;\n",
              "      gap: 12px;\n",
              "    }\n",
              "\n",
              "    .colab-df-convert {\n",
              "      background-color: #E8F0FE;\n",
              "      border: none;\n",
              "      border-radius: 50%;\n",
              "      cursor: pointer;\n",
              "      display: none;\n",
              "      fill: #1967D2;\n",
              "      height: 32px;\n",
              "      padding: 0 0 0 0;\n",
              "      width: 32px;\n",
              "    }\n",
              "\n",
              "    .colab-df-convert:hover {\n",
              "      background-color: #E2EBFA;\n",
              "      box-shadow: 0px 1px 2px rgba(60, 64, 67, 0.3), 0px 1px 3px 1px rgba(60, 64, 67, 0.15);\n",
              "      fill: #174EA6;\n",
              "    }\n",
              "\n",
              "    [theme=dark] .colab-df-convert {\n",
              "      background-color: #3B4455;\n",
              "      fill: #D2E3FC;\n",
              "    }\n",
              "\n",
              "    [theme=dark] .colab-df-convert:hover {\n",
              "      background-color: #434B5C;\n",
              "      box-shadow: 0px 1px 3px 1px rgba(0, 0, 0, 0.15);\n",
              "      filter: drop-shadow(0px 1px 2px rgba(0, 0, 0, 0.3));\n",
              "      fill: #FFFFFF;\n",
              "    }\n",
              "  </style>\n",
              "\n",
              "      <script>\n",
              "        const buttonEl =\n",
              "          document.querySelector('#df-d68babb8-da78-4e23-bbb1-606432be1c0c button.colab-df-convert');\n",
              "        buttonEl.style.display =\n",
              "          google.colab.kernel.accessAllowed ? 'block' : 'none';\n",
              "\n",
              "        async function convertToInteractive(key) {\n",
              "          const element = document.querySelector('#df-d68babb8-da78-4e23-bbb1-606432be1c0c');\n",
              "          const dataTable =\n",
              "            await google.colab.kernel.invokeFunction('convertToInteractive',\n",
              "                                                     [key], {});\n",
              "          if (!dataTable) return;\n",
              "\n",
              "          const docLinkHtml = 'Like what you see? Visit the ' +\n",
              "            '<a target=\"_blank\" href=https://colab.research.google.com/notebooks/data_table.ipynb>data table notebook</a>'\n",
              "            + ' to learn more about interactive tables.';\n",
              "          element.innerHTML = '';\n",
              "          dataTable['output_type'] = 'display_data';\n",
              "          await google.colab.output.renderOutput(dataTable, element);\n",
              "          const docLink = document.createElement('div');\n",
              "          docLink.innerHTML = docLinkHtml;\n",
              "          element.appendChild(docLink);\n",
              "        }\n",
              "      </script>\n",
              "    </div>\n",
              "  </div>\n",
              "  "
            ]
          },
          "metadata": {},
          "execution_count": 28
        }
      ]
    },
    {
      "cell_type": "code",
      "source": [
        "best_svm.best_params_"
      ],
      "metadata": {
        "colab": {
          "base_uri": "https://localhost:8080/"
        },
        "id": "J5DKcwHCsmkd",
        "outputId": "43db4d62-37e6-42f7-e395-786957ed9d61"
      },
      "execution_count": null,
      "outputs": [
        {
          "output_type": "execute_result",
          "data": {
            "text/plain": [
              "{'classifier__C': 7, 'classifier__kernel': 'sigmoid'}"
            ]
          },
          "metadata": {},
          "execution_count": 29
        }
      ]
    },
    {
      "cell_type": "code",
      "source": [
        "y_pred = model_svm.predict(X_test)\n",
        "\n",
        "matrix = confusion_matrix(y_test, y_pred)\n",
        "\n",
        "matrix"
      ],
      "metadata": {
        "colab": {
          "base_uri": "https://localhost:8080/"
        },
        "id": "FGYbHBLzqSej",
        "outputId": "c31c2681-368a-4a6f-bc9f-c8b39bb1acb2"
      },
      "execution_count": null,
      "outputs": [
        {
          "output_type": "execute_result",
          "data": {
            "text/plain": [
              "array([[723,   1],\n",
              "       [  7, 137]])"
            ]
          },
          "metadata": {},
          "execution_count": 30
        }
      ]
    },
    {
      "cell_type": "code",
      "source": [
        "# Criando um heatmap para melhor visualização\n",
        "\n",
        "plt.figure()\n",
        "sns.heatmap(matrix, annot=True, fmt='g')\n",
        "plt.xlabel(\"Predict\")\n",
        "plt.ylabel(\"Truth\")"
      ],
      "metadata": {
        "colab": {
          "base_uri": "https://localhost:8080/",
          "height": 466
        },
        "outputId": "1ab76228-bc37-4e57-ac8e-3c510ffd184f",
        "id": "h4YQo5oABTmJ"
      },
      "execution_count": null,
      "outputs": [
        {
          "output_type": "execute_result",
          "data": {
            "text/plain": [
              "Text(50.722222222222214, 0.5, 'Truth')"
            ]
          },
          "metadata": {},
          "execution_count": 31
        },
        {
          "output_type": "display_data",
          "data": {
            "text/plain": [
              "<Figure size 640x480 with 2 Axes>"
            ],
            "image/png": "[encoded data removed]"
          },
          "metadata": {}
        }
      ]
    },
    {
      "cell_type": "code",
      "source": [
        "print(\"Accuracy: \", accuracy_score(y_pred,y_test))\n",
        "print(\"Precision: \", precision_score(y_pred,y_test, average = 'weighted'))\n",
        "print(\"Recall: \", recall_score(y_pred,y_test, average = 'weighted'))\n",
        "print(\"F1 Score: \", f1_score(y_pred,y_test, average = 'weighted'))"
      ],
      "metadata": {
        "colab": {
          "base_uri": "https://localhost:8080/"
        },
        "outputId": "d9e74945-1e0b-4730-e0ad-7301b136366a",
        "id": "GaEbDiSdBTmJ"
      },
      "execution_count": null,
      "outputs": [
        {
          "output_type": "stream",
          "name": "stdout",
          "text": [
            "Accuracy:  0.9907834101382489\n",
            "Precision:  0.9911098840712547\n",
            "Recall:  0.9907834101382489\n",
            "F1 Score:  0.9908624426188452\n"
          ]
        }
      ]
    },
    {
      "cell_type": "markdown",
      "source": [
        "# Naive Bayes"
      ],
      "metadata": {
        "id": "GLd5OE1plL9t"
      }
    },
    {
      "cell_type": "code",
      "source": [
        "nb = MultinomialNB()"
      ],
      "metadata": {
        "id": "Xx5-nFGVxR-x"
      },
      "execution_count": null,
      "outputs": []
    },
    {
      "cell_type": "code",
      "source": [
        "pipe = Pipeline([('vectorizer',vectorizer),('classifier',nb)])\n",
        "model_nb = pipe.fit(X_train,y_train)"
      ],
      "metadata": {
        "id": "K2vk7j8nxR-x"
      },
      "execution_count": null,
      "outputs": []
    },
    {
      "cell_type": "code",
      "source": [
        "y_pred = model_nb.predict(X_test)\n",
        "\n",
        "matrix = confusion_matrix(y_test, y_pred)\n",
        "\n",
        "matrix"
      ],
      "metadata": {
        "colab": {
          "base_uri": "https://localhost:8080/"
        },
        "outputId": "f94c1d76-5ee9-4cb0-b30a-6a433004818a",
        "id": "Cc6EaH4YxR-y"
      },
      "execution_count": null,
      "outputs": [
        {
          "output_type": "execute_result",
          "data": {
            "text/plain": [
              "array([[724,   0],\n",
              "       [ 50,  94]])"
            ]
          },
          "metadata": {},
          "execution_count": 35
        }
      ]
    },
    {
      "cell_type": "code",
      "source": [
        "# Criando um heatmap para melhor visualização\n",
        "\n",
        "plt.figure()\n",
        "sns.heatmap(matrix, annot=True, fmt='g')\n",
        "plt.xlabel(\"Predict\")\n",
        "plt.ylabel(\"Truth\")"
      ],
      "metadata": {
        "colab": {
          "base_uri": "https://localhost:8080/",
          "height": 466
        },
        "outputId": "5c1267c1-d5be-4e83-d380-143d6bf1578e",
        "id": "KmhEWBv7xR-y"
      },
      "execution_count": null,
      "outputs": [
        {
          "output_type": "execute_result",
          "data": {
            "text/plain": [
              "Text(50.722222222222214, 0.5, 'Truth')"
            ]
          },
          "metadata": {},
          "execution_count": 36
        },
        {
          "output_type": "display_data",
          "data": {
            "text/plain": [
              "<Figure size 640x480 with 2 Axes>"
            ],
            "image/png": "[encoded data removed]"
          },
          "metadata": {}
        }
      ]
    },
    {
      "cell_type": "code",
      "source": [
        "print(\"Accuracy: \", accuracy_score(y_pred,y_test))\n",
        "print(\"Precision: \", precision_score(y_pred,y_test, average = 'weighted'))\n",
        "print(\"Recall: \", recall_score(y_pred,y_test, average = 'weighted'))\n",
        "print(\"F1 Score: \", f1_score(y_pred,y_test, average = 'weighted'))"
      ],
      "metadata": {
        "colab": {
          "base_uri": "https://localhost:8080/"
        },
        "outputId": "003fddfb-43b9-4d7e-c1e8-0bc9e454baf2",
        "id": "0tfPOK17xR-y"
      },
      "execution_count": null,
      "outputs": [
        {
          "output_type": "stream",
          "name": "stdout",
          "text": [
            "Accuracy:  0.9423963133640553\n",
            "Precision:  0.9623975934459805\n",
            "Recall:  0.9423963133640553\n",
            "F1 Score:  0.9474857775488851\n"
          ]
        }
      ]
    },
    {
      "cell_type": "markdown",
      "source": [
        "# kNN"
      ],
      "metadata": {
        "id": "doB-Lde9lN1K"
      }
    },
    {
      "cell_type": "code",
      "source": [
        "knn = KNeighborsClassifier()"
      ],
      "metadata": {
        "id": "8WRjl8aCxs3A"
      },
      "execution_count": null,
      "outputs": []
    },
    {
      "cell_type": "code",
      "source": [
        "pipe = Pipeline(steps=[(\"vectorizer\", vectorizer), (\"classifier\", KNeighborsClassifier())])\n",
        "\n",
        "param_grid = {'classifier__n_neighbors':[1, 3, 5, 7], 'classifier__p':[1, 2]}\n",
        "\n",
        "best_knn = GridSearchCV(pipe, param_grid, scoring=('f1_weighted'), cv=3)\n",
        "\n",
        "model_knn = best_knn.fit(X_train, y_train)\n",
        "\n",
        "df = pd.DataFrame(best_knn.cv_results_)\n",
        "\n",
        "df"
      ],
      "metadata": {
        "colab": {
          "base_uri": "https://localhost:8080/",
          "height": 503
        },
        "outputId": "e0f845ed-499d-4ced-9be4-143820f37d3b",
        "id": "pta0195rxs3A"
      },
      "execution_count": null,
      "outputs": [
        {
          "output_type": "execute_result",
          "data": {
            "text/plain": [
              "   mean_fit_time  std_fit_time  mean_score_time  std_score_time  \\\n",
              "0       0.292300      0.067292         0.607887        0.131824   \n",
              "1       0.227909      0.009553        12.710433        0.106725   \n",
              "2       0.223617      0.007112         0.408938        0.008886   \n",
              "3       0.221915      0.009245        12.713969        0.085918   \n",
              "4       0.269681      0.068372         0.536532        0.117852   \n",
              "5       0.276770      0.073718        12.687662        0.088695   \n",
              "6       0.227601      0.018061         0.407170        0.006799   \n",
              "7       0.231002      0.001900        12.643522        0.163665   \n",
              "\n",
              "  param_classifier__n_neighbors param_classifier__p  \\\n",
              "0                             1                   1   \n",
              "1                             1                   2   \n",
              "2                             3                   1   \n",
              "3                             3                   2   \n",
              "4                             5                   1   \n",
              "5                             5                   2   \n",
              "6                             7                   1   \n",
              "7                             7                   2   \n",
              "\n",
              "                                              params  split0_test_score  \\\n",
              "0  {'classifier__n_neighbors': 1, 'classifier__p'...           0.059236   \n",
              "1  {'classifier__n_neighbors': 1, 'classifier__p'...           0.967169   \n",
              "2  {'classifier__n_neighbors': 3, 'classifier__p'...           0.779185   \n",
              "3  {'classifier__n_neighbors': 3, 'classifier__p'...           0.979259   \n",
              "4  {'classifier__n_neighbors': 5, 'classifier__p'...           0.758617   \n",
              "5  {'classifier__n_neighbors': 5, 'classifier__p'...           0.974860   \n",
              "6  {'classifier__n_neighbors': 7, 'classifier__p'...           0.758617   \n",
              "7  {'classifier__n_neighbors': 7, 'classifier__p'...           0.973520   \n",
              "\n",
              "   split1_test_score  split2_test_score  mean_test_score  std_test_score  \\\n",
              "0           0.758617           0.756535         0.524796        0.329202   \n",
              "1           0.943429           0.914688         0.941762        0.021458   \n",
              "2           0.758617           0.756535         0.764779        0.010222   \n",
              "3           0.972282           0.933920         0.961820        0.019933   \n",
              "4           0.758617           0.756535         0.757923        0.000981   \n",
              "5           0.972096           0.950628         0.965861        0.010831   \n",
              "6           0.758617           0.756535         0.757923        0.000981   \n",
              "7           0.976462           0.949095         0.966359        0.012266   \n",
              "\n",
              "   rank_test_score  \n",
              "0                8  \n",
              "1                4  \n",
              "2                5  \n",
              "3                3  \n",
              "4                6  \n",
              "5                2  \n",
              "6                6  \n",
              "7                1  "
            ],
            "text/html": [
              "\n",
              "  <div id=\"df-a12e1058-7c78-4b09-8988-8deb978e4560\">\n",
              "    <div class=\"colab-df-container\">\n",
              "      <div>\n",
              "<style scoped>\n",
              "    .dataframe tbody tr th:only-of-type {\n",
              "        vertical-align: middle;\n",
              "    }\n",
              "\n",
              "    .dataframe tbody tr th {\n",
              "        vertical-align: top;\n",
              "    }\n",
              "\n",
              "    .dataframe thead th {\n",
              "        text-align: right;\n",
              "    }\n",
              "</style>\n",
              "<table border=\"1\" class=\"dataframe\">\n",
              "  <thead>\n",
              "    <tr style=\"text-align: right;\">\n",
              "      <th></th>\n",
              "      <th>mean_fit_time</th>\n",
              "      <th>std_fit_time</th>\n",
              "      <th>mean_score_time</th>\n",
              "      <th>std_score_time</th>\n",
              "      <th>param_classifier__n_neighbors</th>\n",
              "      <th>param_classifier__p</th>\n",
              "      <th>params</th>\n",
              "      <th>split0_test_score</th>\n",
              "      <th>split1_test_score</th>\n",
              "      <th>split2_test_score</th>\n",
              "      <th>mean_test_score</th>\n",
              "      <th>std_test_score</th>\n",
              "      <th>rank_test_score</th>\n",
              "    </tr>\n",
              "  </thead>\n",
              "  <tbody>\n",
              "    <tr>\n",
              "      <th>0</th>\n",
              "      <td>0.292300</td>\n",
              "      <td>0.067292</td>\n",
              "      <td>0.607887</td>\n",
              "      <td>0.131824</td>\n",
              "      <td>1</td>\n",
              "      <td>1</td>\n",
              "      <td>{'classifier__n_neighbors': 1, 'classifier__p'...</td>\n",
              "      <td>0.059236</td>\n",
              "      <td>0.758617</td>\n",
              "      <td>0.756535</td>\n",
              "      <td>0.524796</td>\n",
              "      <td>0.329202</td>\n",
              "      <td>8</td>\n",
              "    </tr>\n",
              "    <tr>\n",
              "      <th>1</th>\n",
              "      <td>0.227909</td>\n",
              "      <td>0.009553</td>\n",
              "      <td>12.710433</td>\n",
              "      <td>0.106725</td>\n",
              "      <td>1</td>\n",
              "      <td>2</td>\n",
              "      <td>{'classifier__n_neighbors': 1, 'classifier__p'...</td>\n",
              "      <td>0.967169</td>\n",
              "      <td>0.943429</td>\n",
              "      <td>0.914688</td>\n",
              "      <td>0.941762</td>\n",
              "      <td>0.021458</td>\n",
              "      <td>4</td>\n",
              "    </tr>\n",
              "    <tr>\n",
              "      <th>2</th>\n",
              "      <td>0.223617</td>\n",
              "      <td>0.007112</td>\n",
              "      <td>0.408938</td>\n",
              "      <td>0.008886</td>\n",
              "      <td>3</td>\n",
              "      <td>1</td>\n",
              "      <td>{'classifier__n_neighbors': 3, 'classifier__p'...</td>\n",
              "      <td>0.779185</td>\n",
              "      <td>0.758617</td>\n",
              "      <td>0.756535</td>\n",
              "      <td>0.764779</td>\n",
              "      <td>0.010222</td>\n",
              "      <td>5</td>\n",
              "    </tr>\n",
              "    <tr>\n",
              "      <th>3</th>\n",
              "      <td>0.221915</td>\n",
              "      <td>0.009245</td>\n",
              "      <td>12.713969</td>\n",
              "      <td>0.085918</td>\n",
              "      <td>3</td>\n",
              "      <td>2</td>\n",
              "      <td>{'classifier__n_neighbors': 3, 'classifier__p'...</td>\n",
              "      <td>0.979259</td>\n",
              "      <td>0.972282</td>\n",
              "      <td>0.933920</td>\n",
              "      <td>0.961820</td>\n",
              "      <td>0.019933</td>\n",
              "      <td>3</td>\n",
              "    </tr>\n",
              "    <tr>\n",
              "      <th>4</th>\n",
              "      <td>0.269681</td>\n",
              "      <td>0.068372</td>\n",
              "      <td>0.536532</td>\n",
              "      <td>0.117852</td>\n",
              "      <td>5</td>\n",
              "      <td>1</td>\n",
              "      <td>{'classifier__n_neighbors': 5, 'classifier__p'...</td>\n",
              "      <td>0.758617</td>\n",
              "      <td>0.758617</td>\n",
              "      <td>0.756535</td>\n",
              "      <td>0.757923</td>\n",
              "      <td>0.000981</td>\n",
              "      <td>6</td>\n",
              "    </tr>\n",
              "    <tr>\n",
              "      <th>5</th>\n",
              "      <td>0.276770</td>\n",
              "      <td>0.073718</td>\n",
              "      <td>12.687662</td>\n",
              "      <td>0.088695</td>\n",
              "      <td>5</td>\n",
              "      <td>2</td>\n",
              "      <td>{'classifier__n_neighbors': 5, 'classifier__p'...</td>\n",
              "      <td>0.974860</td>\n",
              "      <td>0.972096</td>\n",
              "      <td>0.950628</td>\n",
              "      <td>0.965861</td>\n",
              "      <td>0.010831</td>\n",
              "      <td>2</td>\n",
              "    </tr>\n",
              "    <tr>\n",
              "      <th>6</th>\n",
              "      <td>0.227601</td>\n",
              "      <td>0.018061</td>\n",
              "      <td>0.407170</td>\n",
              "      <td>0.006799</td>\n",
              "      <td>7</td>\n",
              "      <td>1</td>\n",
              "      <td>{'classifier__n_neighbors': 7, 'classifier__p'...</td>\n",
              "      <td>0.758617</td>\n",
              "      <td>0.758617</td>\n",
              "      <td>0.756535</td>\n",
              "      <td>0.757923</td>\n",
              "      <td>0.000981</td>\n",
              "      <td>6</td>\n",
              "    </tr>\n",
              "    <tr>\n",
              "      <th>7</th>\n",
              "      <td>0.231002</td>\n",
              "      <td>0.001900</td>\n",
              "      <td>12.643522</td>\n",
              "      <td>0.163665</td>\n",
              "      <td>7</td>\n",
              "      <td>2</td>\n",
              "      <td>{'classifier__n_neighbors': 7, 'classifier__p'...</td>\n",
              "      <td>0.973520</td>\n",
              "      <td>0.976462</td>\n",
              "      <td>0.949095</td>\n",
              "      <td>0.966359</td>\n",
              "      <td>0.012266</td>\n",
              "      <td>1</td>\n",
              "    </tr>\n",
              "  </tbody>\n",
              "</table>\n",
              "</div>\n",
              "      <button class=\"colab-df-convert\" onclick=\"convertToInteractive('df-a12e1058-7c78-4b09-8988-8deb978e4560')\"\n",
              "              title=\"Convert this dataframe to an interactive table.\"\n",
              "              style=\"display:none;\">\n",
              "        \n",
              "  <svg xmlns=\"http://www.w3.org/2000/svg\" height=\"24px\"viewBox=\"0 0 24 24\"\n",
              "       width=\"24px\">\n",
              "    <path d=\"M0 0h24v24H0V0z\" fill=\"none\"/>\n",
              "    <path d=\"M18.56 5.44l.94 2.06.94-2.06 2.06-.94-2.06-.94-.94-2.06-.94 2.06-2.06.94zm-11 1L8.5 8.5l.94-2.06 2.06-.94-2.06-.94L8.5 2.5l-.94 2.06-2.06.94zm10 10l.94 2.06.94-2.06 2.06-.94-2.06-.94-.94-2.06-.94 2.06-2.06.94z\"/><path d=\"M17.41 7.96l-1.37-1.37c-.4-.4-.92-.59-1.43-.59-.52 0-1.04.2-1.43.59L10.3 9.45l-7.72 7.72c-.78.78-.78 2.05 0 2.83L4 21.41c.39.39.9.59 1.41.59.51 0 1.02-.2 1.41-.59l7.78-7.78 2.81-2.81c.8-.78.8-2.07 0-2.86zM5.41 20L4 18.59l7.72-7.72 1.47 1.35L5.41 20z\"/>\n",
              "  </svg>\n",
              "      </button>\n",
              "      \n",
              "  <style>\n",
              "    .colab-df-container {\n",
              "      display:flex;\n",
              "      flex-wrap:wrap;\n",
              "      gap: 12px;\n",
              "    }\n",
              "\n",
              "    .colab-df-convert {\n",
              "      background-color: #E8F0FE;\n",
              "      border: none;\n",
              "      border-radius: 50%;\n",
              "      cursor: pointer;\n",
              "      display: none;\n",
              "      fill: #1967D2;\n",
              "      height: 32px;\n",
              "      padding: 0 0 0 0;\n",
              "      width: 32px;\n",
              "    }\n",
              "\n",
              "    .colab-df-convert:hover {\n",
              "      background-color: #E2EBFA;\n",
              "      box-shadow: 0px 1px 2px rgba(60, 64, 67, 0.3), 0px 1px 3px 1px rgba(60, 64, 67, 0.15);\n",
              "      fill: #174EA6;\n",
              "    }\n",
              "\n",
              "    [theme=dark] .colab-df-convert {\n",
              "      background-color: #3B4455;\n",
              "      fill: #D2E3FC;\n",
              "    }\n",
              "\n",
              "    [theme=dark] .colab-df-convert:hover {\n",
              "      background-color: #434B5C;\n",
              "      box-shadow: 0px 1px 3px 1px rgba(0, 0, 0, 0.15);\n",
              "      filter: drop-shadow(0px 1px 2px rgba(0, 0, 0, 0.3));\n",
              "      fill: #FFFFFF;\n",
              "    }\n",
              "  </style>\n",
              "\n",
              "      <script>\n",
              "        const buttonEl =\n",
              "          document.querySelector('#df-a12e1058-7c78-4b09-8988-8deb978e4560 button.colab-df-convert');\n",
              "        buttonEl.style.display =\n",
              "          google.colab.kernel.accessAllowed ? 'block' : 'none';\n",
              "\n",
              "        async function convertToInteractive(key) {\n",
              "          const element = document.querySelector('#df-a12e1058-7c78-4b09-8988-8deb978e4560');\n",
              "          const dataTable =\n",
              "            await google.colab.kernel.invokeFunction('convertToInteractive',\n",
              "                                                     [key], {});\n",
              "          if (!dataTable) return;\n",
              "\n",
              "          const docLinkHtml = 'Like what you see? Visit the ' +\n",
              "            '<a target=\"_blank\" href=https://colab.research.google.com/notebooks/data_table.ipynb>data table notebook</a>'\n",
              "            + ' to learn more about interactive tables.';\n",
              "          element.innerHTML = '';\n",
              "          dataTable['output_type'] = 'display_data';\n",
              "          await google.colab.output.renderOutput(dataTable, element);\n",
              "          const docLink = document.createElement('div');\n",
              "          docLink.innerHTML = docLinkHtml;\n",
              "          element.appendChild(docLink);\n",
              "        }\n",
              "      </script>\n",
              "    </div>\n",
              "  </div>\n",
              "  "
            ]
          },
          "metadata": {},
          "execution_count": 39
        }
      ]
    },
    {
      "cell_type": "code",
      "source": [
        "best_knn.best_params_"
      ],
      "metadata": {
        "colab": {
          "base_uri": "https://localhost:8080/"
        },
        "outputId": "b0efbce8-bba1-43f1-9d69-bcf2c7fbbb10",
        "id": "0EVrdwtlxs3B"
      },
      "execution_count": null,
      "outputs": [
        {
          "output_type": "execute_result",
          "data": {
            "text/plain": [
              "{'classifier__n_neighbors': 7, 'classifier__p': 2}"
            ]
          },
          "metadata": {},
          "execution_count": 40
        }
      ]
    },
    {
      "cell_type": "code",
      "source": [
        "y_pred = model_knn.predict(X_test)\n",
        "\n",
        "matrix = confusion_matrix(y_test, y_pred)\n",
        "\n",
        "matrix"
      ],
      "metadata": {
        "colab": {
          "base_uri": "https://localhost:8080/"
        },
        "outputId": "9e5b6734-aac5-459e-cf37-3bc7e73d6d24",
        "id": "Q5V6JPO1xs3B"
      },
      "execution_count": null,
      "outputs": [
        {
          "output_type": "execute_result",
          "data": {
            "text/plain": [
              "array([[706,  18],\n",
              "       [ 12, 132]])"
            ]
          },
          "metadata": {},
          "execution_count": 41
        }
      ]
    },
    {
      "cell_type": "code",
      "source": [
        "# Criando um heatmap para melhor visualização\n",
        "\n",
        "plt.figure()\n",
        "sns.heatmap(matrix, annot=True, fmt='g')\n",
        "plt.xlabel(\"Predict\")\n",
        "plt.ylabel(\"Truth\")"
      ],
      "metadata": {
        "colab": {
          "base_uri": "https://localhost:8080/",
          "height": 469
        },
        "outputId": "3ac0d764-65f3-4131-92da-0e6a645e9f77",
        "id": "N1Il4ijpxs3B"
      },
      "execution_count": null,
      "outputs": [
        {
          "output_type": "execute_result",
          "data": {
            "text/plain": [
              "Text(50.722222222222214, 0.5, 'Truth')"
            ]
          },
          "metadata": {},
          "execution_count": 42
        },
        {
          "output_type": "display_data",
          "data": {
            "text/plain": [
              "<Figure size 640x480 with 2 Axes>"
            ],
            "image/png": "[encoded data removed]"
          },
          "metadata": {}
        }
      ]
    },
    {
      "cell_type": "code",
      "source": [
        "print(\"Accuracy: \", accuracy_score(y_pred,y_test))\n",
        "print(\"Precision: \", precision_score(y_pred,y_test, average = 'weighted'))\n",
        "print(\"Recall: \", recall_score(y_pred,y_test, average = 'weighted'))\n",
        "print(\"F1 Score: \", f1_score(y_pred,y_test, average = 'weighted'))"
      ],
      "metadata": {
        "colab": {
          "base_uri": "https://localhost:8080/"
        },
        "outputId": "6f94c4d5-f355-45cd-d98c-9ae74e437d08",
        "id": "srbgp_zBxs3B"
      },
      "execution_count": null,
      "outputs": [
        {
          "output_type": "stream",
          "name": "stdout",
          "text": [
            "Accuracy:  0.9654377880184332\n",
            "Precision:  0.9650336074547445\n",
            "Recall:  0.9654377880184332\n",
            "F1 Score:  0.9651570171265678\n"
          ]
        }
      ]
    }
  ]
}